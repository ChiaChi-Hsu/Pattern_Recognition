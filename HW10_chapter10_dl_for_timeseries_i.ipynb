{
  "cells": [
    {
      "cell_type": "markdown",
      "metadata": {
        "id": "TnA00U1G27TJ"
      },
      "source": [
        "This is a companion notebook for the book [Deep Learning with Python, Second Edition](https://www.manning.com/books/deep-learning-with-python-second-edition?a_aid=keras&a_bid=76564dff). For readability, it only contains runnable code blocks and section titles, and omits everything else in the book: text paragraphs, figures, and pseudocode.\n",
        "\n",
        "**If you want to be able to follow what's going on, I recommend reading the notebook side by side with your copy of the book.**\n",
        "\n",
        "This notebook was generated for TensorFlow 2.6."
      ]
    },
    {
      "cell_type": "markdown",
      "metadata": {
        "id": "gm6aXH3M27TL"
      },
      "source": [
        "# Deep learning for timeseries"
      ]
    },
    {
      "cell_type": "markdown",
      "metadata": {
        "id": "mOJTwZ_t27TM"
      },
      "source": [
        "## Different kinds of timeseries tasks"
      ]
    },
    {
      "cell_type": "markdown",
      "metadata": {
        "id": "ZGgfHyor27TM"
      },
      "source": [
        "## A temperature-forecasting example"
      ]
    },
    {
      "cell_type": "code",
      "execution_count": 4,
      "metadata": {
        "id": "zbHnjjKg27TM",
        "outputId": "60c534b3-4cb5-4bef-d1c0-4ed7e2e0c2ab",
        "colab": {
          "base_uri": "https://localhost:8080/"
        }
      },
      "outputs": [
        {
          "output_type": "stream",
          "name": "stdout",
          "text": [
            "--2022-11-29 14:19:59--  https://s3.amazonaws.com/keras-datasets/jena_climate_2009_2016.csv.zip\n",
            "Resolving s3.amazonaws.com (s3.amazonaws.com)... 52.216.52.104, 52.217.91.200, 52.216.248.206, ...\n",
            "Connecting to s3.amazonaws.com (s3.amazonaws.com)|52.216.52.104|:443... connected.\n",
            "HTTP request sent, awaiting response... 200 OK\n",
            "Length: 13565642 (13M) [application/zip]\n",
            "Saving to: ‘jena_climate_2009_2016.csv.zip’\n",
            "\n",
            "jena_climate_2009_2 100%[===================>]  12.94M  13.7MB/s    in 0.9s    \n",
            "\n",
            "2022-11-29 14:20:00 (13.7 MB/s) - ‘jena_climate_2009_2016.csv.zip’ saved [13565642/13565642]\n",
            "\n",
            "Archive:  jena_climate_2009_2016.csv.zip\n",
            "  inflating: jena_climate_2009_2016.csv  \n",
            "  inflating: __MACOSX/._jena_climate_2009_2016.csv  \n"
          ]
        }
      ],
      "source": [
        "!wget https://s3.amazonaws.com/keras-datasets/jena_climate_2009_2016.csv.zip\n",
        "!unzip jena_climate_2009_2016.csv.zip"
      ]
    },
    {
      "cell_type": "markdown",
      "metadata": {
        "id": "RNzOrytc27TN"
      },
      "source": [
        "**Inspecting the data of the Jena weather dataset**"
      ]
    },
    {
      "cell_type": "code",
      "execution_count": 5,
      "metadata": {
        "id": "qpiTCJzj27TN",
        "outputId": "e3e32809-a358-463d-ec17-9ba2fe2230fb",
        "colab": {
          "base_uri": "https://localhost:8080/"
        }
      },
      "outputs": [
        {
          "output_type": "stream",
          "name": "stdout",
          "text": [
            "['\"Date Time\"', '\"p (mbar)\"', '\"T (degC)\"', '\"Tpot (K)\"', '\"Tdew (degC)\"', '\"rh (%)\"', '\"VPmax (mbar)\"', '\"VPact (mbar)\"', '\"VPdef (mbar)\"', '\"sh (g/kg)\"', '\"H2OC (mmol/mol)\"', '\"rho (g/m**3)\"', '\"wv (m/s)\"', '\"max. wv (m/s)\"', '\"wd (deg)\"']\n",
            "420451\n"
          ]
        }
      ],
      "source": [
        "import os\n",
        "fname = os.path.join(\"jena_climate_2009_2016.csv\")\n",
        "\n",
        "with open(fname) as f:\n",
        "    data = f.read()\n",
        "\n",
        "lines = data.split(\"\\n\")\n",
        "header = lines[0].split(\",\")\n",
        "lines = lines[1:]\n",
        "print(header)\n",
        "print(len(lines))"
      ]
    },
    {
      "cell_type": "markdown",
      "metadata": {
        "id": "6EYntsNd27TN"
      },
      "source": [
        "**Parsing the data**"
      ]
    },
    {
      "cell_type": "code",
      "execution_count": 6,
      "metadata": {
        "id": "cHBHmPzM27TO"
      },
      "outputs": [],
      "source": [
        "import numpy as np\n",
        "temperature = np.zeros((len(lines),))\n",
        "raw_data = np.zeros((len(lines), len(header) - 1))\n",
        "for i, line in enumerate(lines):\n",
        "    values = [float(x) for x in line.split(\",\")[1:]]\n",
        "    temperature[i] = values[1]\n",
        "    raw_data[i, :] = values[:]"
      ]
    },
    {
      "cell_type": "markdown",
      "metadata": {
        "id": "3aLnoIYH27TO"
      },
      "source": [
        "**Plotting the temperature timeseries**"
      ]
    },
    {
      "cell_type": "code",
      "execution_count": 7,
      "metadata": {
        "id": "zPamcDnf27TO",
        "outputId": "931a1d20-873b-4907-be1f-defbef8376c7",
        "colab": {
          "base_uri": "https://localhost:8080/",
          "height": 285
        }
      },
      "outputs": [
        {
          "output_type": "execute_result",
          "data": {
            "text/plain": [
              "[<matplotlib.lines.Line2D at 0x7ff92ba2b150>]"
            ]
          },
          "metadata": {},
          "execution_count": 7
        },
        {
          "output_type": "display_data",
          "data": {
            "text/plain": [
              "<Figure size 432x288 with 1 Axes>"
            ],
            "image/png": "[encoded data removed]"
          },
          "metadata": {
            "needs_background": "light"
          }
        }
      ],
      "source": [
        "from matplotlib import pyplot as plt\n",
        "plt.plot(range(len(temperature)), temperature)"
      ]
    },
    {
      "cell_type": "markdown",
      "metadata": {
        "id": "vqlOVpTs27TO"
      },
      "source": [
        "**Plotting the first 10 days of the temperature timeseries**"
      ]
    },
    {
      "cell_type": "code",
      "execution_count": 8,
      "metadata": {
        "id": "-XjM1sIJ27TO",
        "outputId": "cb203673-57c5-4d48-abe1-276f2a8aaa53",
        "colab": {
          "base_uri": "https://localhost:8080/",
          "height": 282
        }
      },
      "outputs": [
        {
          "output_type": "execute_result",
          "data": {
            "text/plain": [
              "[<matplotlib.lines.Line2D at 0x7ff8486c8950>]"
            ]
          },
          "metadata": {},
          "execution_count": 8
        },
        {
          "output_type": "display_data",
          "data": {
            "text/plain": [
              "<Figure size 432x288 with 1 Axes>"
            ],
            "image/png": "[encoded data removed]"
          },
          "metadata": {
            "needs_background": "light"
          }
        }
      ],
      "source": [
        "plt.plot(range(1440), temperature[:1440])"
      ]
    },
    {
      "cell_type": "markdown",
      "metadata": {
        "id": "PXUQytVJ27TO"
      },
      "source": [
        "**Computing the number of samples we'll use for each data split**"
      ]
    },
    {
      "cell_type": "code",
      "execution_count": 9,
      "metadata": {
        "id": "uR7LICOJ27TO",
        "outputId": "071677b0-bc87-4088-913e-dd9de2efc745",
        "colab": {
          "base_uri": "https://localhost:8080/"
        }
      },
      "outputs": [
        {
          "output_type": "stream",
          "name": "stdout",
          "text": [
            "num_train_samples: 210225\n",
            "num_val_samples: 105112\n",
            "num_test_samples: 105114\n"
          ]
        }
      ],
      "source": [
        "num_train_samples = int(0.5 * len(raw_data))\n",
        "num_val_samples = int(0.25 * len(raw_data))\n",
        "num_test_samples = len(raw_data) - num_train_samples - num_val_samples\n",
        "print(\"num_train_samples:\", num_train_samples)\n",
        "print(\"num_val_samples:\", num_val_samples)\n",
        "print(\"num_test_samples:\", num_test_samples)"
      ]
    },
    {
      "cell_type": "markdown",
      "metadata": {
        "id": "GIp2BN4c27TP"
      },
      "source": [
        "### Preparing the data"
      ]
    },
    {
      "cell_type": "markdown",
      "metadata": {
        "id": "Tygr4vUB27TP"
      },
      "source": [
        "**Normalizing the data**"
      ]
    },
    {
      "cell_type": "code",
      "execution_count": 10,
      "metadata": {
        "id": "YOzqC6eX27TP"
      },
      "outputs": [],
      "source": [
        "mean = raw_data[:num_train_samples].mean(axis=0)\n",
        "raw_data -= mean\n",
        "std = raw_data[:num_train_samples].std(axis=0)\n",
        "raw_data /= std"
      ]
    },
    {
      "cell_type": "code",
      "execution_count": 11,
      "metadata": {
        "id": "7MpCnXk627TP",
        "outputId": "e703765c-2715-48f3-e16b-79059c68b89f",
        "colab": {
          "base_uri": "https://localhost:8080/"
        }
      },
      "outputs": [
        {
          "output_type": "stream",
          "name": "stdout",
          "text": [
            "[0, 1, 2] 3\n",
            "[1, 2, 3] 4\n",
            "[2, 3, 4] 5\n",
            "[3, 4, 5] 6\n",
            "[4, 5, 6] 7\n"
          ]
        }
      ],
      "source": [
        "import numpy as np\n",
        "from tensorflow import keras\n",
        "int_sequence = np.arange(10)\n",
        "dummy_dataset = keras.utils.timeseries_dataset_from_array(\n",
        "    data=int_sequence[:-3],\n",
        "    targets=int_sequence[3:],\n",
        "    sequence_length=3,\n",
        "    batch_size=2,\n",
        ")\n",
        "\n",
        "for inputs, targets in dummy_dataset:\n",
        "    for i in range(inputs.shape[0]):\n",
        "        print([int(x) for x in inputs[i]], int(targets[i]))"
      ]
    },
    {
      "cell_type": "markdown",
      "metadata": {
        "id": "_-ViJMYI27TP"
      },
      "source": [
        "**Instantiating datasets for training, validation, and testing**"
      ]
    },
    {
      "cell_type": "code",
      "execution_count": 12,
      "metadata": {
        "id": "g7r_JUbc27TQ"
      },
      "outputs": [],
      "source": [
        "sampling_rate = 6\n",
        "sequence_length = 120\n",
        "delay = sampling_rate * (sequence_length + 24 - 1)\n",
        "batch_size = 256\n",
        "\n",
        "train_dataset = keras.utils.timeseries_dataset_from_array(\n",
        "    raw_data[:-delay],\n",
        "    targets=temperature[delay:],\n",
        "    sampling_rate=sampling_rate,\n",
        "    sequence_length=sequence_length,\n",
        "    shuffle=True,\n",
        "    batch_size=batch_size,\n",
        "    start_index=0,\n",
        "    end_index=num_train_samples)\n",
        "\n",
        "val_dataset = keras.utils.timeseries_dataset_from_array(\n",
        "    raw_data[:-delay],\n",
        "    targets=temperature[delay:],\n",
        "    sampling_rate=sampling_rate,\n",
        "    sequence_length=sequence_length,\n",
        "    shuffle=True,\n",
        "    batch_size=batch_size,\n",
        "    start_index=num_train_samples,\n",
        "    end_index=num_train_samples + num_val_samples)\n",
        "\n",
        "test_dataset = keras.utils.timeseries_dataset_from_array(\n",
        "    raw_data[:-delay],\n",
        "    targets=temperature[delay:],\n",
        "    sampling_rate=sampling_rate,\n",
        "    sequence_length=sequence_length,\n",
        "    shuffle=True,\n",
        "    batch_size=batch_size,\n",
        "    start_index=num_train_samples + num_val_samples)"
      ]
    },
    {
      "cell_type": "markdown",
      "metadata": {
        "id": "OAlw3LsQ27TQ"
      },
      "source": [
        "**Inspecting the output of one of our datasets**"
      ]
    },
    {
      "cell_type": "code",
      "execution_count": 13,
      "metadata": {
        "id": "UObuMXH427TQ",
        "outputId": "56d6e75e-ba94-4765-893d-e33bd2ee93f7",
        "colab": {
          "base_uri": "https://localhost:8080/"
        }
      },
      "outputs": [
        {
          "output_type": "stream",
          "name": "stdout",
          "text": [
            "samples shape: (256, 120, 14)\n",
            "targets shape: (256,)\n"
          ]
        }
      ],
      "source": [
        "for samples, targets in train_dataset:\n",
        "    print(\"samples shape:\", samples.shape)\n",
        "    print(\"targets shape:\", targets.shape)\n",
        "    break"
      ]
    },
    {
      "cell_type": "markdown",
      "metadata": {
        "id": "hwlZOfA027TQ"
      },
      "source": [
        "### A common-sense, non-machine-learning baseline"
      ]
    },
    {
      "cell_type": "markdown",
      "metadata": {
        "id": "TAN7JseT27TQ"
      },
      "source": [
        "**Computing the common-sense baseline MAE**"
      ]
    },
    {
      "cell_type": "code",
      "execution_count": 14,
      "metadata": {
        "id": "dPyt9rYz27TQ",
        "outputId": "92091b62-42fb-4c68-c115-5af10256d570",
        "colab": {
          "base_uri": "https://localhost:8080/"
        }
      },
      "outputs": [
        {
          "output_type": "stream",
          "name": "stdout",
          "text": [
            "Validation MAE: 2.44\n",
            "Test MAE: 2.62\n"
          ]
        }
      ],
      "source": [
        "def evaluate_naive_method(dataset):\n",
        "    total_abs_err = 0.\n",
        "    samples_seen = 0\n",
        "    for samples, targets in dataset:\n",
        "        preds = samples[:, -1, 1] * std[1] + mean[1]\n",
        "        total_abs_err += np.sum(np.abs(preds - targets))\n",
        "        samples_seen += samples.shape[0]\n",
        "    return total_abs_err / samples_seen\n",
        "\n",
        "print(f\"Validation MAE: {evaluate_naive_method(val_dataset):.2f}\")\n",
        "print(f\"Test MAE: {evaluate_naive_method(test_dataset):.2f}\")"
      ]
    },
    {
      "cell_type": "markdown",
      "metadata": {
        "id": "TxNMyYfV27TR"
      },
      "source": [
        "### Let's try a basic machine-learning model"
      ]
    },
    {
      "cell_type": "markdown",
      "metadata": {
        "id": "n0JL9iN_27TR"
      },
      "source": [
        "**Training and evaluating a densely connected model**"
      ]
    },
    {
      "cell_type": "code",
      "execution_count": 15,
      "metadata": {
        "id": "LQhYByvl27TR",
        "outputId": "ec923240-f9dd-4df2-d4dc-8b3ffa7ea644",
        "colab": {
          "base_uri": "https://localhost:8080/"
        }
      },
      "outputs": [
        {
          "output_type": "stream",
          "name": "stdout",
          "text": [
            "Epoch 1/10\n",
            "819/819 [==============================] - 41s 47ms/step - loss: 16.1817 - mae: 3.1194 - val_loss: 12.8608 - val_mae: 2.8456\n",
            "Epoch 2/10\n",
            "819/819 [==============================] - 39s 47ms/step - loss: 11.3434 - mae: 2.6548 - val_loss: 11.1502 - val_mae: 2.6352\n",
            "Epoch 3/10\n",
            "819/819 [==============================] - 39s 47ms/step - loss: 10.4491 - mae: 2.5445 - val_loss: 11.1291 - val_mae: 2.6384\n",
            "Epoch 4/10\n",
            "819/819 [==============================] - 39s 47ms/step - loss: 9.8820 - mae: 2.4695 - val_loss: 13.0739 - val_mae: 2.8813\n",
            "Epoch 5/10\n",
            "819/819 [==============================] - 39s 47ms/step - loss: 9.3984 - mae: 2.4060 - val_loss: 12.6555 - val_mae: 2.8034\n",
            "Epoch 6/10\n",
            "819/819 [==============================] - 39s 47ms/step - loss: 8.9711 - mae: 2.3522 - val_loss: 10.8607 - val_mae: 2.6062\n",
            "Epoch 7/10\n",
            "819/819 [==============================] - 40s 49ms/step - loss: 8.6545 - mae: 2.3123 - val_loss: 10.6108 - val_mae: 2.5640\n",
            "Epoch 8/10\n",
            "819/819 [==============================] - 38s 47ms/step - loss: 8.4138 - mae: 2.2802 - val_loss: 11.7395 - val_mae: 2.7255\n",
            "Epoch 9/10\n",
            "819/819 [==============================] - 39s 47ms/step - loss: 8.2359 - mae: 2.2569 - val_loss: 11.2394 - val_mae: 2.6458\n",
            "Epoch 10/10\n",
            "819/819 [==============================] - 38s 47ms/step - loss: 8.0766 - mae: 2.2340 - val_loss: 10.8677 - val_mae: 2.6117\n",
            "405/405 [==============================] - 14s 35ms/step - loss: 11.4741 - mae: 2.6563\n",
            "Test MAE: 2.66\n"
          ]
        }
      ],
      "source": [
        "from tensorflow import keras\n",
        "from tensorflow.keras import layers\n",
        "\n",
        "inputs = keras.Input(shape=(sequence_length, raw_data.shape[-1]))\n",
        "x = layers.Flatten()(inputs)\n",
        "x = layers.Dense(16, activation=\"relu\")(x)\n",
        "outputs = layers.Dense(1)(x)\n",
        "model = keras.Model(inputs, outputs)\n",
        "\n",
        "callbacks = [\n",
        "    keras.callbacks.ModelCheckpoint(\"jena_dense.keras\",\n",
        "                                    save_best_only=True)\n",
        "]\n",
        "model.compile(optimizer=\"rmsprop\", loss=\"mse\", metrics=[\"mae\"])\n",
        "history = model.fit(train_dataset,\n",
        "                    epochs=10,\n",
        "                    validation_data=val_dataset,\n",
        "                    callbacks=callbacks)\n",
        "\n",
        "model = keras.models.load_model(\"jena_dense.keras\")\n",
        "print(f\"Test MAE: {model.evaluate(test_dataset)[1]:.2f}\")"
      ]
    },
    {
      "cell_type": "markdown",
      "metadata": {
        "id": "3hKv--zl27TR"
      },
      "source": [
        "**Plotting results**"
      ]
    },
    {
      "cell_type": "code",
      "execution_count": 16,
      "metadata": {
        "id": "1K59C-Tk27TR",
        "outputId": "0402c680-4eac-4d07-b9de-75ae7db5b858",
        "colab": {
          "base_uri": "https://localhost:8080/",
          "height": 281
        }
      },
      "outputs": [
        {
          "output_type": "display_data",
          "data": {
            "text/plain": [
              "<Figure size 432x288 with 1 Axes>"
            ],
            "image/png": "[encoded data removed]"
          },
          "metadata": {
            "needs_background": "light"
          }
        }
      ],
      "source": [
        "import matplotlib.pyplot as plt\n",
        "loss = history.history[\"mae\"]\n",
        "val_loss = history.history[\"val_mae\"]\n",
        "epochs = range(1, len(loss) + 1)\n",
        "plt.figure()\n",
        "plt.plot(epochs, loss, \"bo\", label=\"Training MAE\")\n",
        "plt.plot(epochs, val_loss, \"b\", label=\"Validation MAE\")\n",
        "plt.title(\"Training and validation MAE\")\n",
        "plt.legend()\n",
        "plt.show()"
      ]
    },
    {
      "cell_type": "markdown",
      "metadata": {
        "id": "wWTObcSY27TR"
      },
      "source": [
        "### Let's try a 1D convolutional model"
      ]
    },
    {
      "cell_type": "code",
      "execution_count": 17,
      "metadata": {
        "id": "XtJgH3QU27TR",
        "outputId": "9e5400e3-273b-4045-be41-47dfa4224a3f",
        "colab": {
          "base_uri": "https://localhost:8080/"
        }
      },
      "outputs": [
        {
          "output_type": "stream",
          "name": "stdout",
          "text": [
            "Epoch 1/10\n",
            "819/819 [==============================] - 46s 49ms/step - loss: 22.0308 - mae: 3.6774 - val_loss: 16.9894 - val_mae: 3.2418\n",
            "Epoch 2/10\n",
            "819/819 [==============================] - 40s 48ms/step - loss: 14.9477 - mae: 3.0620 - val_loss: 14.7053 - val_mae: 3.0407\n",
            "Epoch 3/10\n",
            "819/819 [==============================] - 40s 48ms/step - loss: 13.5555 - mae: 2.9127 - val_loss: 14.5806 - val_mae: 3.0213\n",
            "Epoch 4/10\n",
            "819/819 [==============================] - 40s 48ms/step - loss: 12.6199 - mae: 2.8063 - val_loss: 14.5609 - val_mae: 3.0020\n",
            "Epoch 5/10\n",
            "819/819 [==============================] - 40s 48ms/step - loss: 11.9313 - mae: 2.7239 - val_loss: 14.1906 - val_mae: 2.9507\n",
            "Epoch 6/10\n",
            "819/819 [==============================] - 41s 50ms/step - loss: 11.3769 - mae: 2.6585 - val_loss: 14.9940 - val_mae: 3.0671\n",
            "Epoch 7/10\n",
            "819/819 [==============================] - 40s 48ms/step - loss: 10.9043 - mae: 2.6032 - val_loss: 13.9127 - val_mae: 2.9424\n",
            "Epoch 8/10\n",
            "819/819 [==============================] - 40s 48ms/step - loss: 10.5040 - mae: 2.5590 - val_loss: 17.2235 - val_mae: 3.2929\n",
            "Epoch 9/10\n",
            "819/819 [==============================] - 39s 48ms/step - loss: 10.2483 - mae: 2.5269 - val_loss: 15.4839 - val_mae: 3.0774\n",
            "Epoch 10/10\n",
            "819/819 [==============================] - 40s 48ms/step - loss: 9.9967 - mae: 2.4967 - val_loss: 14.0261 - val_mae: 2.9491\n",
            "405/405 [==============================] - 13s 32ms/step - loss: 15.9203 - mae: 3.1684\n",
            "Test MAE: 3.17\n"
          ]
        }
      ],
      "source": [
        "inputs = keras.Input(shape=(sequence_length, raw_data.shape[-1]))\n",
        "x = layers.Conv1D(8, 24, activation=\"relu\")(inputs)\n",
        "x = layers.MaxPooling1D(2)(x)\n",
        "x = layers.Conv1D(8, 12, activation=\"relu\")(x)\n",
        "x = layers.MaxPooling1D(2)(x)\n",
        "x = layers.Conv1D(8, 6, activation=\"relu\")(x)\n",
        "x = layers.GlobalAveragePooling1D()(x)\n",
        "outputs = layers.Dense(1)(x)\n",
        "model = keras.Model(inputs, outputs)\n",
        "\n",
        "callbacks = [\n",
        "    keras.callbacks.ModelCheckpoint(\"jena_conv.keras\",\n",
        "                                    save_best_only=True)\n",
        "]\n",
        "model.compile(optimizer=\"rmsprop\", loss=\"mse\", metrics=[\"mae\"])\n",
        "history = model.fit(train_dataset,\n",
        "                    epochs=10,\n",
        "                    validation_data=val_dataset,\n",
        "                    callbacks=callbacks)\n",
        "\n",
        "model = keras.models.load_model(\"jena_conv.keras\")\n",
        "print(f\"Test MAE: {model.evaluate(test_dataset)[1]:.2f}\")"
      ]
    },
    {
      "cell_type": "markdown",
      "metadata": {
        "id": "2GcuKrTf27TS"
      },
      "source": [
        "### A first recurrent baseline"
      ]
    },
    {
      "cell_type": "markdown",
      "metadata": {
        "id": "hybjTVTe27TS"
      },
      "source": [
        "**A simple LSTM-based model**"
      ]
    },
    {
      "cell_type": "code",
      "execution_count": 18,
      "metadata": {
        "id": "9Jwz2puS27TS",
        "outputId": "bc68cb37-76b7-4934-c136-d7b5fb40c3b7",
        "colab": {
          "base_uri": "https://localhost:8080/"
        }
      },
      "outputs": [
        {
          "output_type": "stream",
          "name": "stdout",
          "text": [
            "Epoch 1/10\n",
            "819/819 [==============================] - 46s 52ms/step - loss: 40.2359 - mae: 4.6122 - val_loss: 12.0472 - val_mae: 2.6474\n",
            "Epoch 2/10\n",
            "819/819 [==============================] - 43s 52ms/step - loss: 10.9761 - mae: 2.5684 - val_loss: 9.4062 - val_mae: 2.3820\n",
            "Epoch 3/10\n",
            "819/819 [==============================] - 43s 52ms/step - loss: 9.7449 - mae: 2.4342 - val_loss: 9.3845 - val_mae: 2.3717\n",
            "Epoch 4/10\n",
            "819/819 [==============================] - 43s 52ms/step - loss: 9.3919 - mae: 2.3884 - val_loss: 9.6136 - val_mae: 2.3826\n",
            "Epoch 5/10\n",
            "819/819 [==============================] - 45s 54ms/step - loss: 9.1431 - mae: 2.3544 - val_loss: 9.6631 - val_mae: 2.3945\n",
            "Epoch 6/10\n",
            "819/819 [==============================] - 43s 52ms/step - loss: 8.9003 - mae: 2.3184 - val_loss: 10.0819 - val_mae: 2.4428\n",
            "Epoch 7/10\n",
            "819/819 [==============================] - 43s 52ms/step - loss: 8.6799 - mae: 2.2895 - val_loss: 9.8260 - val_mae: 2.4301\n",
            "Epoch 8/10\n",
            "819/819 [==============================] - 43s 52ms/step - loss: 8.4577 - mae: 2.2611 - val_loss: 9.8639 - val_mae: 2.4417\n",
            "Epoch 9/10\n",
            "819/819 [==============================] - 43s 52ms/step - loss: 8.2619 - mae: 2.2353 - val_loss: 10.1068 - val_mae: 2.4589\n",
            "Epoch 10/10\n",
            "819/819 [==============================] - 43s 52ms/step - loss: 8.0862 - mae: 2.2118 - val_loss: 10.0282 - val_mae: 2.4595\n",
            "405/405 [==============================] - 13s 32ms/step - loss: 10.4213 - mae: 2.5255\n",
            "Test MAE: 2.53\n"
          ]
        }
      ],
      "source": [
        "inputs = keras.Input(shape=(sequence_length, raw_data.shape[-1]))\n",
        "x = layers.LSTM(16)(inputs)\n",
        "outputs = layers.Dense(1)(x)\n",
        "model = keras.Model(inputs, outputs)\n",
        "\n",
        "callbacks = [\n",
        "    keras.callbacks.ModelCheckpoint(\"jena_lstm.keras\",\n",
        "                                    save_best_only=True)\n",
        "]\n",
        "model.compile(optimizer=\"rmsprop\", loss=\"mse\", metrics=[\"mae\"])\n",
        "history = model.fit(train_dataset,\n",
        "                    epochs=10,\n",
        "                    validation_data=val_dataset,\n",
        "                    callbacks=callbacks)\n",
        "\n",
        "model = keras.models.load_model(\"jena_lstm.keras\")\n",
        "print(f\"Test MAE: {model.evaluate(test_dataset)[1]:.2f}\")"
      ]
    },
    {
      "cell_type": "markdown",
      "metadata": {
        "id": "m41Dzbuq27TT"
      },
      "source": [
        "## Understanding recurrent neural networks"
      ]
    },
    {
      "cell_type": "markdown",
      "metadata": {
        "id": "aBw-RxNs27TT"
      },
      "source": [
        "**NumPy implementation of a simple RNN**"
      ]
    },
    {
      "cell_type": "code",
      "execution_count": 19,
      "metadata": {
        "id": "mAF4OZWi27TT"
      },
      "outputs": [],
      "source": [
        "import numpy as np\n",
        "timesteps = 100\n",
        "input_features = 32\n",
        "output_features = 64\n",
        "inputs = np.random.random((timesteps, input_features))\n",
        "state_t = np.zeros((output_features,))\n",
        "W = np.random.random((output_features, input_features))\n",
        "U = np.random.random((output_features, output_features))\n",
        "b = np.random.random((output_features,))\n",
        "successive_outputs = []\n",
        "for input_t in inputs:\n",
        "    output_t = np.tanh(np.dot(W, input_t) + np.dot(U, state_t) + b)\n",
        "    successive_outputs.append(output_t)\n",
        "    state_t = output_t\n",
        "final_output_sequence = np.stack(successive_outputs, axis=0)"
      ]
    },
    {
      "cell_type": "markdown",
      "metadata": {
        "id": "0_92akN327TT"
      },
      "source": [
        "### A recurrent layer in Keras"
      ]
    },
    {
      "cell_type": "markdown",
      "metadata": {
        "id": "cQMi7cEK27TU"
      },
      "source": [
        "**An RNN layer that can process sequences of any length**"
      ]
    },
    {
      "cell_type": "code",
      "execution_count": 20,
      "metadata": {
        "id": "oyZ2TSRK27TU"
      },
      "outputs": [],
      "source": [
        "num_features = 14\n",
        "inputs = keras.Input(shape=(None, num_features))\n",
        "outputs = layers.SimpleRNN(16)(inputs)"
      ]
    },
    {
      "cell_type": "markdown",
      "metadata": {
        "id": "i0MIVkmg27TU"
      },
      "source": [
        "**An RNN layer that returns only its last output step**"
      ]
    },
    {
      "cell_type": "code",
      "execution_count": 21,
      "metadata": {
        "id": "gzj7h6V_27TU",
        "outputId": "b656fe07-714f-4260-ac64-1e7c91bf2b7a",
        "colab": {
          "base_uri": "https://localhost:8080/"
        }
      },
      "outputs": [
        {
          "output_type": "stream",
          "name": "stdout",
          "text": [
            "(None, 16)\n"
          ]
        }
      ],
      "source": [
        "num_features = 14\n",
        "steps = 120\n",
        "inputs = keras.Input(shape=(steps, num_features))\n",
        "outputs = layers.SimpleRNN(16, return_sequences=False)(inputs)\n",
        "print(outputs.shape)"
      ]
    },
    {
      "cell_type": "markdown",
      "metadata": {
        "id": "JC0JmMp027TU"
      },
      "source": [
        "**An RNN layer that returns its full output sequence**"
      ]
    },
    {
      "cell_type": "code",
      "execution_count": 22,
      "metadata": {
        "id": "9OtookMA27TV",
        "outputId": "f84b3b8e-1115-46ed-bbf6-3fc1127da894",
        "colab": {
          "base_uri": "https://localhost:8080/"
        }
      },
      "outputs": [
        {
          "output_type": "stream",
          "name": "stdout",
          "text": [
            "(None, 120, 16)\n"
          ]
        }
      ],
      "source": [
        "num_features = 14\n",
        "steps = 120\n",
        "inputs = keras.Input(shape=(steps, num_features))\n",
        "outputs = layers.SimpleRNN(16, return_sequences=True)(inputs)\n",
        "print(outputs.shape)"
      ]
    },
    {
      "cell_type": "markdown",
      "metadata": {
        "id": "EaH7Pm7R27TV"
      },
      "source": [
        "**Stacking RNN layers**"
      ]
    },
    {
      "cell_type": "code",
      "execution_count": 23,
      "metadata": {
        "id": "i7-DRSIB27TV"
      },
      "outputs": [],
      "source": [
        "inputs = keras.Input(shape=(steps, num_features))\n",
        "x = layers.SimpleRNN(16, return_sequences=True)(inputs)\n",
        "x = layers.SimpleRNN(16, return_sequences=True)(x)\n",
        "outputs = layers.SimpleRNN(16)(x)"
      ]
    },
    {
      "cell_type": "markdown",
      "metadata": {
        "id": "RRGDClBb27TV"
      },
      "source": [
        "## Advanced use of recurrent neural networks"
      ]
    },
    {
      "cell_type": "markdown",
      "metadata": {
        "id": "5fBYmiJo27TV"
      },
      "source": [
        "### Using recurrent dropout to fight overfitting"
      ]
    },
    {
      "cell_type": "markdown",
      "metadata": {
        "id": "8rPjUd-N27TV"
      },
      "source": [
        "**Training and evaluating a dropout-regularized LSTM**"
      ]
    },
    {
      "cell_type": "code",
      "execution_count": 24,
      "metadata": {
        "id": "D5FVx_RM27TV",
        "outputId": "d11d4c08-7413-4a0d-8f8c-4b7c57b696e5",
        "colab": {
          "base_uri": "https://localhost:8080/"
        }
      },
      "outputs": [
        {
          "output_type": "stream",
          "name": "stderr",
          "text": [
            "WARNING:tensorflow:Layer lstm_1 will not use cuDNN kernels since it doesn't meet the criteria. It will use a generic GPU kernel as fallback when running on GPU.\n"
          ]
        },
        {
          "output_type": "stream",
          "name": "stdout",
          "text": [
            "Epoch 1/20\n",
            "819/819 [==============================] - 336s 407ms/step - loss: 29.7011 - mae: 4.0014 - val_loss: 9.8069 - val_mae: 2.4354\n",
            "Epoch 2/20\n",
            "819/819 [==============================] - 335s 408ms/step - loss: 14.9730 - mae: 3.0047 - val_loss: 10.0043 - val_mae: 2.4590\n",
            "Epoch 3/20\n",
            "819/819 [==============================] - 334s 407ms/step - loss: 14.1709 - mae: 2.9170 - val_loss: 9.6439 - val_mae: 2.4190\n",
            "Epoch 4/20\n",
            "819/819 [==============================] - 337s 411ms/step - loss: 13.6060 - mae: 2.8542 - val_loss: 9.5379 - val_mae: 2.4018\n",
            "Epoch 5/20\n",
            "819/819 [==============================] - 334s 408ms/step - loss: 13.2361 - mae: 2.8118 - val_loss: 9.4893 - val_mae: 2.3910\n",
            "Epoch 6/20\n",
            "819/819 [==============================] - 336s 410ms/step - loss: 12.8217 - mae: 2.7704 - val_loss: 9.6672 - val_mae: 2.4153\n",
            "Epoch 7/20\n",
            "819/819 [==============================] - 334s 408ms/step - loss: 12.4133 - mae: 2.7268 - val_loss: 9.6661 - val_mae: 2.4168\n",
            "Epoch 8/20\n",
            "819/819 [==============================] - 332s 406ms/step - loss: 12.1268 - mae: 2.6996 - val_loss: 9.3799 - val_mae: 2.3843\n",
            "Epoch 9/20\n",
            "819/819 [==============================] - 334s 408ms/step - loss: 11.8841 - mae: 2.6705 - val_loss: 9.4589 - val_mae: 2.3942\n",
            "Epoch 10/20\n",
            "819/819 [==============================] - 337s 411ms/step - loss: 11.5872 - mae: 2.6407 - val_loss: 9.6038 - val_mae: 2.4153\n",
            "Epoch 11/20\n",
            "819/819 [==============================] - 332s 405ms/step - loss: 11.3112 - mae: 2.6117 - val_loss: 10.1391 - val_mae: 2.4793\n",
            "Epoch 12/20\n",
            "819/819 [==============================] - 335s 409ms/step - loss: 11.1491 - mae: 2.5904 - val_loss: 10.0821 - val_mae: 2.4769\n",
            "Epoch 13/20\n",
            "819/819 [==============================] - 336s 410ms/step - loss: 11.0095 - mae: 2.5726 - val_loss: 9.7399 - val_mae: 2.4289\n",
            "Epoch 14/20\n",
            "819/819 [==============================] - 334s 408ms/step - loss: 10.8372 - mae: 2.5504 - val_loss: 9.9691 - val_mae: 2.4676\n",
            "Epoch 15/20\n",
            "819/819 [==============================] - 334s 408ms/step - loss: 10.7461 - mae: 2.5427 - val_loss: 9.9149 - val_mae: 2.4566\n",
            "Epoch 16/20\n",
            "819/819 [==============================] - 334s 407ms/step - loss: 10.6207 - mae: 2.5285 - val_loss: 9.7520 - val_mae: 2.4350\n",
            "Epoch 17/20\n",
            "819/819 [==============================] - 340s 414ms/step - loss: 10.5224 - mae: 2.5188 - val_loss: 10.1249 - val_mae: 2.4808\n",
            "Epoch 18/20\n",
            "819/819 [==============================] - 337s 411ms/step - loss: 10.4831 - mae: 2.5114 - val_loss: 9.6850 - val_mae: 2.4377\n",
            "Epoch 19/20\n",
            "819/819 [==============================] - 337s 411ms/step - loss: 10.3872 - mae: 2.5035 - val_loss: 9.7657 - val_mae: 2.4423\n",
            "Epoch 20/20\n",
            "819/819 [==============================] - 334s 408ms/step - loss: 10.3458 - mae: 2.4990 - val_loss: 9.8082 - val_mae: 2.4542\n"
          ]
        }
      ],
      "source": [
        "inputs = keras.Input(shape=(sequence_length, raw_data.shape[-1]))\n",
        "x = layers.LSTM(32, recurrent_dropout=0.25)(inputs)\n",
        "x = layers.Dropout(0.5)(x)\n",
        "outputs = layers.Dense(1)(x)\n",
        "model = keras.Model(inputs, outputs)\n",
        "\n",
        "callbacks = [\n",
        "    keras.callbacks.ModelCheckpoint(\"jena_lstm_dropout.keras\",\n",
        "                                    save_best_only=True)\n",
        "]\n",
        "model.compile(optimizer=\"rmsprop\", loss=\"mse\", metrics=[\"mae\"])\n",
        "history = model.fit(train_dataset,\n",
        "                    epochs=20,\n",
        "                    validation_data=val_dataset,\n",
        "                    callbacks=callbacks)"
      ]
    },
    {
      "cell_type": "code",
      "execution_count": 25,
      "metadata": {
        "id": "cRCMwEUZ27TV",
        "outputId": "ffa80cf4-9204-49bf-c7fa-ee893a0fa49c",
        "colab": {
          "base_uri": "https://localhost:8080/"
        }
      },
      "outputs": [
        {
          "output_type": "stream",
          "name": "stderr",
          "text": [
            "WARNING:tensorflow:Layer lstm_2 will not use cuDNN kernels since it doesn't meet the criteria. It will use a generic GPU kernel as fallback when running on GPU.\n"
          ]
        }
      ],
      "source": [
        "inputs = keras.Input(shape=(sequence_length, num_features))\n",
        "x = layers.LSTM(32, recurrent_dropout=0.2, unroll=True)(inputs)"
      ]
    },
    {
      "cell_type": "markdown",
      "metadata": {
        "id": "qaqGbYH527TV"
      },
      "source": [
        "### Stacking recurrent layers"
      ]
    },
    {
      "cell_type": "markdown",
      "metadata": {
        "id": "tY1TGV_727TV"
      },
      "source": [
        "**Training and evaluating a dropout-regularized, stacked GRU model**"
      ]
    },
    {
      "cell_type": "code",
      "execution_count": 27,
      "metadata": {
        "id": "eCg44Hs027TW",
        "outputId": "38214403-c9df-4080-aba9-55da0b36fa2b",
        "colab": {
          "base_uri": "https://localhost:8080/"
        }
      },
      "outputs": [
        {
          "output_type": "stream",
          "name": "stderr",
          "text": [
            "WARNING:tensorflow:Layer gru_2 will not use cuDNN kernels since it doesn't meet the criteria. It will use a generic GPU kernel as fallback when running on GPU.\n",
            "WARNING:tensorflow:Layer gru_3 will not use cuDNN kernels since it doesn't meet the criteria. It will use a generic GPU kernel as fallback when running on GPU.\n"
          ]
        },
        {
          "output_type": "stream",
          "name": "stdout",
          "text": [
            "819/819 [==============================] - 617s 748ms/step - loss: 26.0281 - mae: 3.7557 - val_loss: 9.4358 - val_mae: 2.3682\n"
          ]
        },
        {
          "output_type": "stream",
          "name": "stderr",
          "text": [
            "WARNING:tensorflow:Layer gru_2 will not use cuDNN kernels since it doesn't meet the criteria. It will use a generic GPU kernel as fallback when running on GPU.\n",
            "WARNING:tensorflow:Layer gru_3 will not use cuDNN kernels since it doesn't meet the criteria. It will use a generic GPU kernel as fallback when running on GPU.\n"
          ]
        },
        {
          "output_type": "stream",
          "name": "stdout",
          "text": [
            "405/405 [==============================] - 38s 92ms/step - loss: 11.2224 - mae: 2.5960\n",
            "Test MAE: 2.60\n"
          ]
        }
      ],
      "source": [
        "inputs = keras.Input(shape=(sequence_length, raw_data.shape[-1]))\n",
        "x = layers.GRU(32, recurrent_dropout=0.5, return_sequences=True)(inputs)\n",
        "x = layers.GRU(32, recurrent_dropout=0.5)(x)\n",
        "x = layers.Dropout(0.5)(x)\n",
        "outputs = layers.Dense(1)(x)\n",
        "model = keras.Model(inputs, outputs)\n",
        "\n",
        "callbacks = [\n",
        "    keras.callbacks.ModelCheckpoint(\"jena_stacked_gru_dropout.keras\",\n",
        "                                    save_best_only=True)\n",
        "]\n",
        "model.compile(optimizer=\"rmsprop\", loss=\"mse\", metrics=[\"mae\"])\n",
        "history = model.fit(train_dataset,\n",
        "                    epochs=1,\n",
        "                    validation_data=val_dataset,\n",
        "                    callbacks=callbacks)\n",
        "model = keras.models.load_model(\"jena_stacked_gru_dropout.keras\")\n",
        "print(f\"Test MAE: {model.evaluate(test_dataset)[1]:.2f}\")"
      ]
    },
    {
      "cell_type": "markdown",
      "metadata": {
        "id": "6-TfV6JK27TW"
      },
      "source": [
        "### Using bidirectional RNNs"
      ]
    },
    {
      "cell_type": "markdown",
      "metadata": {
        "id": "fFI_SKCa27TW"
      },
      "source": [
        "**Training and evaluating a bidirectional LSTM**"
      ]
    },
    {
      "cell_type": "code",
      "execution_count": 28,
      "metadata": {
        "id": "at2Y5ZQC27TW",
        "outputId": "425e8748-be36-4d60-e6b8-fcefeb584c53",
        "colab": {
          "base_uri": "https://localhost:8080/"
        }
      },
      "outputs": [
        {
          "output_type": "stream",
          "name": "stdout",
          "text": [
            "Epoch 1/10\n",
            "819/819 [==============================] - 51s 59ms/step - loss: 25.5473 - mae: 3.6254 - val_loss: 10.3258 - val_mae: 2.4860\n",
            "Epoch 2/10\n",
            "819/819 [==============================] - 47s 58ms/step - loss: 9.5197 - mae: 2.4050 - val_loss: 10.0306 - val_mae: 2.4425\n",
            "Epoch 3/10\n",
            "819/819 [==============================] - 48s 58ms/step - loss: 8.6105 - mae: 2.2840 - val_loss: 10.3595 - val_mae: 2.4896\n",
            "Epoch 4/10\n",
            "819/819 [==============================] - 47s 57ms/step - loss: 8.0080 - mae: 2.2076 - val_loss: 10.2994 - val_mae: 2.4777\n",
            "Epoch 5/10\n",
            "819/819 [==============================] - 47s 57ms/step - loss: 7.5739 - mae: 2.1498 - val_loss: 10.3308 - val_mae: 2.4932\n",
            "Epoch 6/10\n",
            "819/819 [==============================] - 47s 57ms/step - loss: 7.2471 - mae: 2.1083 - val_loss: 10.3973 - val_mae: 2.4977\n",
            "Epoch 7/10\n",
            "819/819 [==============================] - 47s 57ms/step - loss: 6.9649 - mae: 2.0680 - val_loss: 10.8156 - val_mae: 2.5542\n",
            "Epoch 8/10\n",
            "819/819 [==============================] - 47s 57ms/step - loss: 6.6766 - mae: 2.0220 - val_loss: 10.3212 - val_mae: 2.4942\n",
            "Epoch 9/10\n",
            "819/819 [==============================] - 47s 58ms/step - loss: 6.5143 - mae: 1.9935 - val_loss: 10.8746 - val_mae: 2.5645\n",
            "Epoch 10/10\n",
            "819/819 [==============================] - 46s 56ms/step - loss: 6.2637 - mae: 1.9568 - val_loss: 11.1295 - val_mae: 2.5799\n"
          ]
        }
      ],
      "source": [
        "inputs = keras.Input(shape=(sequence_length, raw_data.shape[-1]))\n",
        "x = layers.Bidirectional(layers.LSTM(16))(inputs)\n",
        "outputs = layers.Dense(1)(x)\n",
        "model = keras.Model(inputs, outputs)\n",
        "\n",
        "model.compile(optimizer=\"rmsprop\", loss=\"mse\", metrics=[\"mae\"])\n",
        "history = model.fit(train_dataset,\n",
        "                    epochs=10,\n",
        "                    validation_data=val_dataset)"
      ]
    },
    {
      "cell_type": "markdown",
      "metadata": {
        "id": "XajXdtgy27TW"
      },
      "source": [
        "### Going even further"
      ]
    },
    {
      "cell_type": "markdown",
      "metadata": {
        "id": "FHH8jaDN27TW"
      },
      "source": [
        "## Summary"
      ]
    }
  ],
  "metadata": {
    "colab": {
      "name": "chapter10_dl-for-timeseries.i",
      "provenance": []
    },
    "kernelspec": {
      "display_name": "Python 3",
      "language": "python",
      "name": "python3"
    },
    "language_info": {
      "codemirror_mode": {
        "name": "ipython",
        "version": 3
      },
      "file_extension": ".py",
      "mimetype": "text/x-python",
      "name": "python",
      "nbconvert_exporter": "python",
      "pygments_lexer": "ipython3",
      "version": "3.7.0"
    },
    "accelerator": "GPU",
    "gpuClass": "standard"
  },
  "nbformat": 4,
  "nbformat_minor": 0
}