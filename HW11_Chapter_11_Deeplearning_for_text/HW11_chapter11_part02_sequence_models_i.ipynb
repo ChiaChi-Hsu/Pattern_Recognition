{
  "cells": [
    {
      "cell_type": "markdown",
      "metadata": {
        "id": "_nH7cPPF8LN2"
      },
      "source": [
        "This is a companion notebook for the book [Deep Learning with Python, Second Edition](https://www.manning.com/books/deep-learning-with-python-second-edition?a_aid=keras&a_bid=76564dff). For readability, it only contains runnable code blocks and section titles, and omits everything else in the book: text paragraphs, figures, and pseudocode.\n",
        "\n",
        "**If you want to be able to follow what's going on, I recommend reading the notebook side by side with your copy of the book.**\n",
        "\n",
        "This notebook was generated for TensorFlow 2.6."
      ]
    },
    {
      "cell_type": "markdown",
      "metadata": {
        "id": "v322t79l8LN5"
      },
      "source": [
        "### Processing words as a sequence: The sequence model approach"
      ]
    },
    {
      "cell_type": "markdown",
      "metadata": {
        "id": "1-02BRgm8LN5"
      },
      "source": [
        "#### A first practical example"
      ]
    },
    {
      "cell_type": "markdown",
      "metadata": {
        "id": "v9JuCIvy8LN5"
      },
      "source": [
        "**Downloading the data**"
      ]
    },
    {
      "cell_type": "code",
      "execution_count": 1,
      "metadata": {
        "id": "0RP2JRlm8LN5",
        "outputId": "7ec30ad1-69c3-494e-cb63-820de1cea6e6",
        "colab": {
          "base_uri": "https://localhost:8080/"
        }
      },
      "outputs": [
        {
          "output_type": "stream",
          "name": "stdout",
          "text": [
            "  % Total    % Received % Xferd  Average Speed   Time    Time     Time  Current\n",
            "                                 Dload  Upload   Total   Spent    Left  Speed\n",
            "100 80.2M  100 80.2M    0     0  27.5M      0  0:00:02  0:00:02 --:--:-- 27.5M\n"
          ]
        }
      ],
      "source": [
        "!curl -O https://ai.stanford.edu/~amaas/data/sentiment/aclImdb_v1.tar.gz\n",
        "!tar -xf aclImdb_v1.tar.gz\n",
        "!rm -r aclImdb/train/unsup"
      ]
    },
    {
      "cell_type": "markdown",
      "metadata": {
        "id": "JELzataX8LN6"
      },
      "source": [
        "**Preparing the data**"
      ]
    },
    {
      "cell_type": "code",
      "execution_count": 2,
      "metadata": {
        "id": "WhbAy_w78LN6",
        "outputId": "02bbc4e8-9eb5-491e-a7e5-4e74acd9f5c2",
        "colab": {
          "base_uri": "https://localhost:8080/"
        }
      },
      "outputs": [
        {
          "output_type": "stream",
          "name": "stdout",
          "text": [
            "Found 20000 files belonging to 2 classes.\n",
            "Found 5000 files belonging to 2 classes.\n",
            "Found 25000 files belonging to 2 classes.\n"
          ]
        }
      ],
      "source": [
        "import os, pathlib, shutil, random\n",
        "from tensorflow import keras\n",
        "batch_size = 32\n",
        "base_dir = pathlib.Path(\"aclImdb\")\n",
        "val_dir = base_dir / \"val\"\n",
        "train_dir = base_dir / \"train\"\n",
        "for category in (\"neg\", \"pos\"):\n",
        "    os.makedirs(val_dir / category)\n",
        "    files = os.listdir(train_dir / category)\n",
        "    random.Random(1337).shuffle(files)\n",
        "    num_val_samples = int(0.2 * len(files))\n",
        "    val_files = files[-num_val_samples:]\n",
        "    for fname in val_files:\n",
        "        shutil.move(train_dir / category / fname,\n",
        "                    val_dir / category / fname)\n",
        "\n",
        "train_ds = keras.utils.text_dataset_from_directory(\n",
        "    \"aclImdb/train\", batch_size=batch_size\n",
        ")\n",
        "val_ds = keras.utils.text_dataset_from_directory(\n",
        "    \"aclImdb/val\", batch_size=batch_size\n",
        ")\n",
        "test_ds = keras.utils.text_dataset_from_directory(\n",
        "    \"aclImdb/test\", batch_size=batch_size\n",
        ")\n",
        "text_only_train_ds = train_ds.map(lambda x, y: x)"
      ]
    },
    {
      "cell_type": "markdown",
      "metadata": {
        "id": "oqxozKRK8LN7"
      },
      "source": [
        "**Preparing integer sequence datasets**"
      ]
    },
    {
      "cell_type": "code",
      "execution_count": 3,
      "metadata": {
        "id": "is5VInKE8LN7"
      },
      "outputs": [],
      "source": [
        "from tensorflow.keras import layers\n",
        "\n",
        "max_length = 600\n",
        "max_tokens = 20000\n",
        "text_vectorization = layers.TextVectorization(\n",
        "    max_tokens=max_tokens,\n",
        "    output_mode=\"int\",\n",
        "    output_sequence_length=max_length,\n",
        ")\n",
        "text_vectorization.adapt(text_only_train_ds)\n",
        "\n",
        "int_train_ds = train_ds.map(\n",
        "    lambda x, y: (text_vectorization(x), y),\n",
        "    num_parallel_calls=4)\n",
        "int_val_ds = val_ds.map(\n",
        "    lambda x, y: (text_vectorization(x), y),\n",
        "    num_parallel_calls=4)\n",
        "int_test_ds = test_ds.map(\n",
        "    lambda x, y: (text_vectorization(x), y),\n",
        "    num_parallel_calls=4)"
      ]
    },
    {
      "cell_type": "markdown",
      "metadata": {
        "id": "NTB3Pu1U8LN7"
      },
      "source": [
        "**A sequence model built on one-hot encoded vector sequences**"
      ]
    },
    {
      "cell_type": "code",
      "execution_count": 4,
      "metadata": {
        "id": "DETIJW9L8LN8",
        "outputId": "ec877aef-f266-4607-bbaa-3edc9bf9b0ea",
        "colab": {
          "base_uri": "https://localhost:8080/"
        }
      },
      "outputs": [
        {
          "output_type": "stream",
          "name": "stdout",
          "text": [
            "Model: \"model\"\n",
            "_________________________________________________________________\n",
            " Layer (type)                Output Shape              Param #   \n",
            "=================================================================\n",
            " input_1 (InputLayer)        [(None, None)]            0         \n",
            "                                                                 \n",
            " tf.one_hot (TFOpLambda)     (None, None, 20000)       0         \n",
            "                                                                 \n",
            " bidirectional (Bidirectiona  (None, 64)               5128448   \n",
            " l)                                                              \n",
            "                                                                 \n",
            " dropout (Dropout)           (None, 64)                0         \n",
            "                                                                 \n",
            " dense (Dense)               (None, 1)                 65        \n",
            "                                                                 \n",
            "=================================================================\n",
            "Total params: 5,128,513\n",
            "Trainable params: 5,128,513\n",
            "Non-trainable params: 0\n",
            "_________________________________________________________________\n"
          ]
        }
      ],
      "source": [
        "import tensorflow as tf\n",
        "inputs = keras.Input(shape=(None,), dtype=\"int64\")\n",
        "embedded = tf.one_hot(inputs, depth=max_tokens)\n",
        "x = layers.Bidirectional(layers.LSTM(32))(embedded)\n",
        "x = layers.Dropout(0.5)(x)\n",
        "outputs = layers.Dense(1, activation=\"sigmoid\")(x)\n",
        "model = keras.Model(inputs, outputs)\n",
        "model.compile(optimizer=\"rmsprop\",\n",
        "              loss=\"binary_crossentropy\",\n",
        "              metrics=[\"accuracy\"])\n",
        "model.summary()"
      ]
    },
    {
      "cell_type": "markdown",
      "metadata": {
        "id": "VlWmQciw8LN8"
      },
      "source": [
        "**Training a first basic sequence model**"
      ]
    },
    {
      "cell_type": "code",
      "execution_count": 5,
      "metadata": {
        "id": "i88TdE3U8LN8",
        "outputId": "c37f90a9-7dc6-44d7-b816-c88f3ab43935",
        "colab": {
          "base_uri": "https://localhost:8080/"
        }
      },
      "outputs": [
        {
          "output_type": "stream",
          "name": "stdout",
          "text": [
            "Epoch 1/10\n",
            "625/625 [==============================] - 177s 271ms/step - loss: 0.5322 - accuracy: 0.7493 - val_loss: 0.3637 - val_accuracy: 0.8560\n",
            "Epoch 2/10\n",
            "625/625 [==============================] - 171s 274ms/step - loss: 0.3440 - accuracy: 0.8763 - val_loss: 0.2878 - val_accuracy: 0.8878\n",
            "Epoch 3/10\n",
            "625/625 [==============================] - 171s 274ms/step - loss: 0.2691 - accuracy: 0.9066 - val_loss: 0.3235 - val_accuracy: 0.8656\n",
            "Epoch 4/10\n",
            "625/625 [==============================] - 171s 274ms/step - loss: 0.2326 - accuracy: 0.9201 - val_loss: 0.3495 - val_accuracy: 0.8846\n",
            "Epoch 5/10\n",
            "625/625 [==============================] - 171s 273ms/step - loss: 0.2011 - accuracy: 0.9309 - val_loss: 0.2962 - val_accuracy: 0.8840\n",
            "Epoch 6/10\n",
            "625/625 [==============================] - 172s 275ms/step - loss: 0.1800 - accuracy: 0.9395 - val_loss: 0.3059 - val_accuracy: 0.8940\n",
            "Epoch 7/10\n",
            "625/625 [==============================] - 172s 275ms/step - loss: 0.1639 - accuracy: 0.9464 - val_loss: 0.3594 - val_accuracy: 0.8844\n",
            "Epoch 8/10\n",
            "625/625 [==============================] - 172s 275ms/step - loss: 0.1427 - accuracy: 0.9520 - val_loss: 0.3673 - val_accuracy: 0.8878\n",
            "Epoch 9/10\n",
            "625/625 [==============================] - 172s 275ms/step - loss: 0.1262 - accuracy: 0.9595 - val_loss: 0.4544 - val_accuracy: 0.8846\n",
            "Epoch 10/10\n",
            "625/625 [==============================] - 172s 274ms/step - loss: 0.1028 - accuracy: 0.9678 - val_loss: 0.6737 - val_accuracy: 0.8738\n",
            "782/782 [==============================] - 103s 130ms/step - loss: 0.2986 - accuracy: 0.8830\n",
            "Test acc: 0.883\n"
          ]
        }
      ],
      "source": [
        "callbacks = [\n",
        "    keras.callbacks.ModelCheckpoint(\"one_hot_bidir_lstm.keras\",\n",
        "                                    save_best_only=True)\n",
        "]\n",
        "model.fit(int_train_ds, validation_data=int_val_ds, epochs=10, callbacks=callbacks)\n",
        "model = keras.models.load_model(\"one_hot_bidir_lstm.keras\")\n",
        "print(f\"Test acc: {model.evaluate(int_test_ds)[1]:.3f}\")"
      ]
    },
    {
      "cell_type": "markdown",
      "metadata": {
        "id": "IQGU2vb18LN8"
      },
      "source": [
        "#### Understanding word embeddings"
      ]
    },
    {
      "cell_type": "markdown",
      "metadata": {
        "id": "_bqG4sOX8LN8"
      },
      "source": [
        "#### Learning word embeddings with the Embedding layer"
      ]
    },
    {
      "cell_type": "markdown",
      "metadata": {
        "id": "zxDdVmng8LN9"
      },
      "source": [
        "**Instantiating an `Embedding` layer**"
      ]
    },
    {
      "cell_type": "code",
      "execution_count": 6,
      "metadata": {
        "id": "WbcYSYvO8LN9"
      },
      "outputs": [],
      "source": [
        "embedding_layer = layers.Embedding(input_dim=max_tokens, output_dim=256)"
      ]
    },
    {
      "cell_type": "markdown",
      "metadata": {
        "id": "-EZnfuo-8LN9"
      },
      "source": [
        "**Model that uses an `Embedding` layer trained from scratch**"
      ]
    },
    {
      "cell_type": "code",
      "execution_count": 7,
      "metadata": {
        "id": "wRq3EkFV8LN9",
        "outputId": "039f2e8a-928a-4c08-9fa5-84f9e85c9c3f",
        "colab": {
          "base_uri": "https://localhost:8080/"
        }
      },
      "outputs": [
        {
          "output_type": "stream",
          "name": "stdout",
          "text": [
            "Model: \"model_1\"\n",
            "_________________________________________________________________\n",
            " Layer (type)                Output Shape              Param #   \n",
            "=================================================================\n",
            " input_2 (InputLayer)        [(None, None)]            0         \n",
            "                                                                 \n",
            " embedding_1 (Embedding)     (None, None, 256)         5120000   \n",
            "                                                                 \n",
            " bidirectional_1 (Bidirectio  (None, 64)               73984     \n",
            " nal)                                                            \n",
            "                                                                 \n",
            " dropout_1 (Dropout)         (None, 64)                0         \n",
            "                                                                 \n",
            " dense_1 (Dense)             (None, 1)                 65        \n",
            "                                                                 \n",
            "=================================================================\n",
            "Total params: 5,194,049\n",
            "Trainable params: 5,194,049\n",
            "Non-trainable params: 0\n",
            "_________________________________________________________________\n",
            "Epoch 1/10\n",
            "625/625 [==============================] - 39s 57ms/step - loss: 0.4750 - accuracy: 0.7815 - val_loss: 0.3693 - val_accuracy: 0.8618\n",
            "Epoch 2/10\n",
            "625/625 [==============================] - 35s 56ms/step - loss: 0.3071 - accuracy: 0.8856 - val_loss: 0.3228 - val_accuracy: 0.8794\n",
            "Epoch 3/10\n",
            "625/625 [==============================] - 34s 55ms/step - loss: 0.2404 - accuracy: 0.9133 - val_loss: 0.3200 - val_accuracy: 0.8864\n",
            "Epoch 4/10\n",
            "625/625 [==============================] - 35s 56ms/step - loss: 0.1930 - accuracy: 0.9341 - val_loss: 0.3583 - val_accuracy: 0.8778\n",
            "Epoch 5/10\n",
            "625/625 [==============================] - 34s 54ms/step - loss: 0.1619 - accuracy: 0.9459 - val_loss: 0.3457 - val_accuracy: 0.8784\n",
            "Epoch 6/10\n",
            "625/625 [==============================] - 31s 49ms/step - loss: 0.1379 - accuracy: 0.9541 - val_loss: 0.4420 - val_accuracy: 0.8356\n",
            "Epoch 7/10\n",
            "625/625 [==============================] - 31s 50ms/step - loss: 0.1123 - accuracy: 0.9632 - val_loss: 0.4008 - val_accuracy: 0.8870\n",
            "Epoch 8/10\n",
            "625/625 [==============================] - 31s 49ms/step - loss: 0.0918 - accuracy: 0.9706 - val_loss: 0.4736 - val_accuracy: 0.8854\n",
            "Epoch 9/10\n",
            "625/625 [==============================] - 31s 50ms/step - loss: 0.0737 - accuracy: 0.9769 - val_loss: 0.4407 - val_accuracy: 0.8830\n",
            "Epoch 10/10\n",
            "625/625 [==============================] - 32s 50ms/step - loss: 0.0640 - accuracy: 0.9806 - val_loss: 0.4679 - val_accuracy: 0.8750\n",
            "782/782 [==============================] - 24s 29ms/step - loss: 0.3662 - accuracy: 0.8659\n",
            "Test acc: 0.866\n"
          ]
        }
      ],
      "source": [
        "inputs = keras.Input(shape=(None,), dtype=\"int64\")\n",
        "embedded = layers.Embedding(input_dim=max_tokens, output_dim=256)(inputs)\n",
        "x = layers.Bidirectional(layers.LSTM(32))(embedded)\n",
        "x = layers.Dropout(0.5)(x)\n",
        "outputs = layers.Dense(1, activation=\"sigmoid\")(x)\n",
        "model = keras.Model(inputs, outputs)\n",
        "model.compile(optimizer=\"rmsprop\",\n",
        "              loss=\"binary_crossentropy\",\n",
        "              metrics=[\"accuracy\"])\n",
        "model.summary()\n",
        "\n",
        "callbacks = [\n",
        "    keras.callbacks.ModelCheckpoint(\"embeddings_bidir_gru.keras\",\n",
        "                                    save_best_only=True)\n",
        "]\n",
        "model.fit(int_train_ds, validation_data=int_val_ds, epochs=10, callbacks=callbacks)\n",
        "model = keras.models.load_model(\"embeddings_bidir_gru.keras\")\n",
        "print(f\"Test acc: {model.evaluate(int_test_ds)[1]:.3f}\")"
      ]
    },
    {
      "cell_type": "markdown",
      "metadata": {
        "id": "A3Vp_PB88LN-"
      },
      "source": [
        "#### Understanding padding and masking"
      ]
    },
    {
      "cell_type": "markdown",
      "metadata": {
        "id": "lsK_UQl88LN-"
      },
      "source": [
        "**Using an `Embedding` layer with masking enabled**"
      ]
    },
    {
      "cell_type": "code",
      "execution_count": 8,
      "metadata": {
        "id": "Q3Vvjc1T8LN-",
        "outputId": "a127a08b-8f04-4638-cc98-67d3f1f51a9b",
        "colab": {
          "base_uri": "https://localhost:8080/"
        }
      },
      "outputs": [
        {
          "output_type": "stream",
          "name": "stdout",
          "text": [
            "Model: \"model_2\"\n",
            "_________________________________________________________________\n",
            " Layer (type)                Output Shape              Param #   \n",
            "=================================================================\n",
            " input_3 (InputLayer)        [(None, None)]            0         \n",
            "                                                                 \n",
            " embedding_2 (Embedding)     (None, None, 256)         5120000   \n",
            "                                                                 \n",
            " bidirectional_2 (Bidirectio  (None, 64)               73984     \n",
            " nal)                                                            \n",
            "                                                                 \n",
            " dropout_2 (Dropout)         (None, 64)                0         \n",
            "                                                                 \n",
            " dense_2 (Dense)             (None, 1)                 65        \n",
            "                                                                 \n",
            "=================================================================\n",
            "Total params: 5,194,049\n",
            "Trainable params: 5,194,049\n",
            "Non-trainable params: 0\n",
            "_________________________________________________________________\n",
            "Epoch 1/10\n",
            "625/625 [==============================] - 42s 56ms/step - loss: 0.3977 - accuracy: 0.8181 - val_loss: 0.2782 - val_accuracy: 0.8904\n",
            "Epoch 2/10\n",
            "625/625 [==============================] - 36s 57ms/step - loss: 0.2236 - accuracy: 0.9141 - val_loss: 0.2826 - val_accuracy: 0.8914\n",
            "Epoch 3/10\n",
            "625/625 [==============================] - 37s 60ms/step - loss: 0.1658 - accuracy: 0.9381 - val_loss: 0.2886 - val_accuracy: 0.8958\n",
            "Epoch 4/10\n",
            "625/625 [==============================] - 36s 58ms/step - loss: 0.1253 - accuracy: 0.9548 - val_loss: 0.3097 - val_accuracy: 0.8898\n",
            "Epoch 5/10\n",
            "625/625 [==============================] - 36s 58ms/step - loss: 0.0902 - accuracy: 0.9685 - val_loss: 0.3311 - val_accuracy: 0.8884\n",
            "Epoch 6/10\n",
            "625/625 [==============================] - 36s 58ms/step - loss: 0.0658 - accuracy: 0.9768 - val_loss: 0.4139 - val_accuracy: 0.8860\n",
            "Epoch 7/10\n",
            "625/625 [==============================] - 36s 57ms/step - loss: 0.0476 - accuracy: 0.9841 - val_loss: 0.4454 - val_accuracy: 0.8796\n",
            "Epoch 8/10\n",
            "625/625 [==============================] - 36s 58ms/step - loss: 0.0328 - accuracy: 0.9892 - val_loss: 0.4923 - val_accuracy: 0.8732\n",
            "Epoch 9/10\n",
            "625/625 [==============================] - 37s 59ms/step - loss: 0.0236 - accuracy: 0.9928 - val_loss: 0.5873 - val_accuracy: 0.8800\n",
            "Epoch 10/10\n",
            "625/625 [==============================] - 36s 57ms/step - loss: 0.0213 - accuracy: 0.9935 - val_loss: 0.5719 - val_accuracy: 0.8770\n",
            "782/782 [==============================] - 24s 28ms/step - loss: 0.2965 - accuracy: 0.8824\n",
            "Test acc: 0.882\n"
          ]
        }
      ],
      "source": [
        "inputs = keras.Input(shape=(None,), dtype=\"int64\")\n",
        "embedded = layers.Embedding(\n",
        "    input_dim=max_tokens, output_dim=256, mask_zero=True)(inputs)\n",
        "x = layers.Bidirectional(layers.LSTM(32))(embedded)\n",
        "x = layers.Dropout(0.5)(x)\n",
        "outputs = layers.Dense(1, activation=\"sigmoid\")(x)\n",
        "model = keras.Model(inputs, outputs)\n",
        "model.compile(optimizer=\"rmsprop\",\n",
        "              loss=\"binary_crossentropy\",\n",
        "              metrics=[\"accuracy\"])\n",
        "model.summary()\n",
        "\n",
        "callbacks = [\n",
        "    keras.callbacks.ModelCheckpoint(\"embeddings_bidir_gru_with_masking.keras\",\n",
        "                                    save_best_only=True)\n",
        "]\n",
        "model.fit(int_train_ds, validation_data=int_val_ds, epochs=10, callbacks=callbacks)\n",
        "model = keras.models.load_model(\"embeddings_bidir_gru_with_masking.keras\")\n",
        "print(f\"Test acc: {model.evaluate(int_test_ds)[1]:.3f}\")"
      ]
    },
    {
      "cell_type": "markdown",
      "metadata": {
        "id": "pO_hjH768LN-"
      },
      "source": [
        "#### Using pretrained word embeddings"
      ]
    },
    {
      "cell_type": "code",
      "execution_count": 9,
      "metadata": {
        "id": "tyqtKwMn8LN-",
        "outputId": "6a464a8f-901d-4d70-9037-509d05c7b842",
        "colab": {
          "base_uri": "https://localhost:8080/"
        }
      },
      "outputs": [
        {
          "output_type": "stream",
          "name": "stdout",
          "text": [
            "--2022-12-06 11:07:18--  http://nlp.stanford.edu/data/glove.6B.zip\n",
            "Resolving nlp.stanford.edu (nlp.stanford.edu)... 171.64.67.140\n",
            "Connecting to nlp.stanford.edu (nlp.stanford.edu)|171.64.67.140|:80... connected.\n",
            "HTTP request sent, awaiting response... 302 Found\n",
            "Location: https://nlp.stanford.edu/data/glove.6B.zip [following]\n",
            "--2022-12-06 11:07:18--  https://nlp.stanford.edu/data/glove.6B.zip\n",
            "Connecting to nlp.stanford.edu (nlp.stanford.edu)|171.64.67.140|:443... connected.\n",
            "HTTP request sent, awaiting response... 301 Moved Permanently\n",
            "Location: https://downloads.cs.stanford.edu/nlp/data/glove.6B.zip [following]\n",
            "--2022-12-06 11:07:18--  https://downloads.cs.stanford.edu/nlp/data/glove.6B.zip\n",
            "Resolving downloads.cs.stanford.edu (downloads.cs.stanford.edu)... 171.64.64.22\n",
            "Connecting to downloads.cs.stanford.edu (downloads.cs.stanford.edu)|171.64.64.22|:443... connected.\n",
            "HTTP request sent, awaiting response... 200 OK\n",
            "Length: 862182613 (822M) [application/zip]\n",
            "Saving to: ‘glove.6B.zip’\n",
            "\n",
            "glove.6B.zip        100%[===================>] 822.24M  5.01MB/s    in 2m 38s  \n",
            "\n",
            "2022-12-06 11:09:57 (5.19 MB/s) - ‘glove.6B.zip’ saved [862182613/862182613]\n",
            "\n"
          ]
        }
      ],
      "source": [
        "!wget http://nlp.stanford.edu/data/glove.6B.zip\n",
        "!unzip -q glove.6B.zip"
      ]
    },
    {
      "cell_type": "markdown",
      "metadata": {
        "id": "mcnlZHSV8LN-"
      },
      "source": [
        "**Parsing the GloVe word-embeddings file**"
      ]
    },
    {
      "cell_type": "code",
      "execution_count": 10,
      "metadata": {
        "id": "nC0Ogc2p8LN_",
        "outputId": "22d09377-4c09-4538-d407-9290e29716da",
        "colab": {
          "base_uri": "https://localhost:8080/"
        }
      },
      "outputs": [
        {
          "output_type": "stream",
          "name": "stdout",
          "text": [
            "Found 400000 word vectors.\n"
          ]
        }
      ],
      "source": [
        "import numpy as np\n",
        "path_to_glove_file = \"glove.6B.100d.txt\"\n",
        "\n",
        "embeddings_index = {}\n",
        "with open(path_to_glove_file) as f:\n",
        "    for line in f:\n",
        "        word, coefs = line.split(maxsplit=1)\n",
        "        coefs = np.fromstring(coefs, \"f\", sep=\" \")\n",
        "        embeddings_index[word] = coefs\n",
        "\n",
        "print(f\"Found {len(embeddings_index)} word vectors.\")"
      ]
    },
    {
      "cell_type": "markdown",
      "metadata": {
        "id": "Ia33KNw78LN_"
      },
      "source": [
        "**Preparing the GloVe word-embeddings matrix**"
      ]
    },
    {
      "cell_type": "code",
      "execution_count": 11,
      "metadata": {
        "id": "3bj6QWgI8LN_"
      },
      "outputs": [],
      "source": [
        "embedding_dim = 100\n",
        "\n",
        "vocabulary = text_vectorization.get_vocabulary()\n",
        "word_index = dict(zip(vocabulary, range(len(vocabulary))))\n",
        "\n",
        "embedding_matrix = np.zeros((max_tokens, embedding_dim))\n",
        "for word, i in word_index.items():\n",
        "    if i < max_tokens:\n",
        "        embedding_vector = embeddings_index.get(word)\n",
        "    if embedding_vector is not None:\n",
        "        embedding_matrix[i] = embedding_vector"
      ]
    },
    {
      "cell_type": "code",
      "execution_count": 12,
      "metadata": {
        "id": "DYaKfmEt8LN_"
      },
      "outputs": [],
      "source": [
        "embedding_layer = layers.Embedding(\n",
        "    max_tokens,\n",
        "    embedding_dim,\n",
        "    embeddings_initializer=keras.initializers.Constant(embedding_matrix),\n",
        "    trainable=False,\n",
        "    mask_zero=True,\n",
        ")"
      ]
    },
    {
      "cell_type": "markdown",
      "metadata": {
        "id": "LImlCqDW8LN_"
      },
      "source": [
        "**Model that uses a pretrained Embedding layer**"
      ]
    },
    {
      "cell_type": "code",
      "execution_count": 13,
      "metadata": {
        "id": "UGghrsNZ8LN_",
        "outputId": "b4fe9fa2-b4af-4c7d-e677-fd1234ea7a2d",
        "colab": {
          "base_uri": "https://localhost:8080/"
        }
      },
      "outputs": [
        {
          "output_type": "stream",
          "name": "stdout",
          "text": [
            "Model: \"model_3\"\n",
            "_________________________________________________________________\n",
            " Layer (type)                Output Shape              Param #   \n",
            "=================================================================\n",
            " input_4 (InputLayer)        [(None, None)]            0         \n",
            "                                                                 \n",
            " embedding_3 (Embedding)     (None, None, 100)         2000000   \n",
            "                                                                 \n",
            " bidirectional_3 (Bidirectio  (None, 64)               34048     \n",
            " nal)                                                            \n",
            "                                                                 \n",
            " dropout_3 (Dropout)         (None, 64)                0         \n",
            "                                                                 \n",
            " dense_3 (Dense)             (None, 1)                 65        \n",
            "                                                                 \n",
            "=================================================================\n",
            "Total params: 2,034,113\n",
            "Trainable params: 34,113\n",
            "Non-trainable params: 2,000,000\n",
            "_________________________________________________________________\n",
            "Epoch 1/10\n",
            "625/625 [==============================] - 42s 55ms/step - loss: 0.5796 - accuracy: 0.6908 - val_loss: 0.4540 - val_accuracy: 0.7904\n",
            "Epoch 2/10\n",
            "625/625 [==============================] - 32s 52ms/step - loss: 0.4573 - accuracy: 0.7929 - val_loss: 0.4303 - val_accuracy: 0.8030\n",
            "Epoch 3/10\n",
            "625/625 [==============================] - 33s 52ms/step - loss: 0.4034 - accuracy: 0.8231 - val_loss: 0.3655 - val_accuracy: 0.8404\n",
            "Epoch 4/10\n",
            "625/625 [==============================] - 32s 51ms/step - loss: 0.3692 - accuracy: 0.8405 - val_loss: 0.3379 - val_accuracy: 0.8538\n",
            "Epoch 5/10\n",
            "625/625 [==============================] - 32s 50ms/step - loss: 0.3463 - accuracy: 0.8516 - val_loss: 0.3775 - val_accuracy: 0.8386\n",
            "Epoch 6/10\n",
            "625/625 [==============================] - 32s 52ms/step - loss: 0.3186 - accuracy: 0.8649 - val_loss: 0.3130 - val_accuracy: 0.8612\n",
            "Epoch 7/10\n",
            "625/625 [==============================] - 32s 52ms/step - loss: 0.3048 - accuracy: 0.8737 - val_loss: 0.3065 - val_accuracy: 0.8692\n",
            "Epoch 8/10\n",
            "625/625 [==============================] - 31s 49ms/step - loss: 0.2884 - accuracy: 0.8834 - val_loss: 0.3171 - val_accuracy: 0.8702\n",
            "Epoch 9/10\n",
            "625/625 [==============================] - 31s 49ms/step - loss: 0.2736 - accuracy: 0.8880 - val_loss: 0.3134 - val_accuracy: 0.8702\n",
            "Epoch 10/10\n",
            "625/625 [==============================] - 31s 49ms/step - loss: 0.2600 - accuracy: 0.8935 - val_loss: 0.3139 - val_accuracy: 0.8718\n",
            "782/782 [==============================] - 31s 37ms/step - loss: 0.3095 - accuracy: 0.8651\n",
            "Test acc: 0.865\n"
          ]
        }
      ],
      "source": [
        "inputs = keras.Input(shape=(None,), dtype=\"int64\")\n",
        "embedded = embedding_layer(inputs)\n",
        "x = layers.Bidirectional(layers.LSTM(32))(embedded)\n",
        "x = layers.Dropout(0.5)(x)\n",
        "outputs = layers.Dense(1, activation=\"sigmoid\")(x)\n",
        "model = keras.Model(inputs, outputs)\n",
        "model.compile(optimizer=\"rmsprop\",\n",
        "              loss=\"binary_crossentropy\",\n",
        "              metrics=[\"accuracy\"])\n",
        "model.summary()\n",
        "\n",
        "callbacks = [\n",
        "    keras.callbacks.ModelCheckpoint(\"glove_embeddings_sequence_model.keras\",\n",
        "                                    save_best_only=True)\n",
        "]\n",
        "model.fit(int_train_ds, validation_data=int_val_ds, epochs=10, callbacks=callbacks)\n",
        "model = keras.models.load_model(\"glove_embeddings_sequence_model.keras\")\n",
        "print(f\"Test acc: {model.evaluate(int_test_ds)[1]:.3f}\")"
      ]
    }
  ],
  "metadata": {
    "colab": {
      "name": "chapter11_part02_sequence-models.i",
      "provenance": [],
      "toc_visible": true
    },
    "kernelspec": {
      "display_name": "Python 3",
      "language": "python",
      "name": "python3"
    },
    "language_info": {
      "codemirror_mode": {
        "name": "ipython",
        "version": 3
      },
      "file_extension": ".py",
      "mimetype": "text/x-python",
      "name": "python",
      "nbconvert_exporter": "python",
      "pygments_lexer": "ipython3",
      "version": "3.7.0"
    },
    "accelerator": "GPU",
    "gpuClass": "standard"
  },
  "nbformat": 4,
  "nbformat_minor": 0
}