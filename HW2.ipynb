{
 "cells": [
  {
   "cell_type": "markdown",
   "id": "6dd284e9",
   "metadata": {},
   "source": [
    "# HW2 "
   ]
  },
  {
   "cell_type": "code",
   "execution_count": 23,
   "id": "20dd8991",
   "metadata": {},
   "outputs": [],
   "source": [
    "import numpy as np\n",
    "import tensorflow as tf\n",
    "import tensorflow.keras as keras"
   ]
  },
  {
   "cell_type": "code",
   "execution_count": 24,
   "id": "1449da9f",
   "metadata": {},
   "outputs": [],
   "source": [
    "(xr,yr), (xt,yt)= keras.datasets.mnist.load_data()"
   ]
  },
  {
   "cell_type": "code",
   "execution_count": 25,
   "id": "7aec92ae",
   "metadata": {},
   "outputs": [
    {
     "name": "stdout",
     "output_type": "stream",
     "text": [
      "  0  0  0  0  0  0  0  0  0  0  0  0  0  0  0  0  0  0  0  0  0  0  0  0  0  0  0  0\n",
      "  0  0  0  0  0  0  0  0  0  0  0  0  0  0  0  0  0  0  0  0  0  0  0  0  0  0  0  0\n",
      "  0  0  0  0  0  0  0  0  0  0  0  0  0  0  0  0  0  0  0  0  0  0  0  0  0  0  0  0\n",
      "  0  0  0  0  0  0  0  0  0  0  0  0  0  0  0  0  0  0  0  0  0  0  0  0  0  0  0  0\n",
      "  0  0  0  0  0  0  0  0  0  0  0  0  0  0  0  0  0  0  0  0  0  0  0  0  0  0  0  0\n",
      "  0  0  0  0  0  0  0  0  0  0  0  0  3 18 18 18126136175 26166255247127  0  0  0  0\n",
      "  0  0  0  0  0  0  0  0 30 36 94154170253253253253253225172253242195 64  0  0  0  0\n",
      "  0  0  0  0  0  0  0 49238253253253253253253253253251 93 82 82 56 39  0  0  0  0  0\n",
      "  0  0  0  0  0  0  0 18219253253253253253198182247241  0  0  0  0  0  0  0  0  0  0\n",
      "  0  0  0  0  0  0  0  0 80156107253253205 11  0 43154  0  0  0  0  0  0  0  0  0  0\n",
      "  0  0  0  0  0  0  0  0  0 14  1154253 90  0  0  0  0  0  0  0  0  0  0  0  0  0  0\n",
      "  0  0  0  0  0  0  0  0  0  0  0139253190  2  0  0  0  0  0  0  0  0  0  0  0  0  0\n",
      "  0  0  0  0  0  0  0  0  0  0  0 11190253 70  0  0  0  0  0  0  0  0  0  0  0  0  0\n",
      "  0  0  0  0  0  0  0  0  0  0  0  0 35241225160108  1  0  0  0  0  0  0  0  0  0  0\n",
      "  0  0  0  0  0  0  0  0  0  0  0  0  0 81240253253119 25  0  0  0  0  0  0  0  0  0\n",
      "  0  0  0  0  0  0  0  0  0  0  0  0  0  0 45186253253150 27  0  0  0  0  0  0  0  0\n",
      "  0  0  0  0  0  0  0  0  0  0  0  0  0  0  0 16 93252253187  0  0  0  0  0  0  0  0\n",
      "  0  0  0  0  0  0  0  0  0  0  0  0  0  0  0  0  0249253249 64  0  0  0  0  0  0  0\n",
      "  0  0  0  0  0  0  0  0  0  0  0  0  0  0 46130183253253207  2  0  0  0  0  0  0  0\n",
      "  0  0  0  0  0  0  0  0  0  0  0  0 39148229253253253250182  0  0  0  0  0  0  0  0\n",
      "  0  0  0  0  0  0  0  0  0  0 24114221253253253253201 78  0  0  0  0  0  0  0  0  0\n",
      "  0  0  0  0  0  0  0  0 23 66213253253253253198 81  2  0  0  0  0  0  0  0  0  0  0\n",
      "  0  0  0  0  0  0 18171219253253253253195 80  9  0  0  0  0  0  0  0  0  0  0  0  0\n",
      "  0  0  0  0 55172226253253253253244133 11  0  0  0  0  0  0  0  0  0  0  0  0  0  0\n",
      "  0  0  0  0136253253253212135132 16  0  0  0  0  0  0  0  0  0  0  0  0  0  0  0  0\n",
      "  0  0  0  0  0  0  0  0  0  0  0  0  0  0  0  0  0  0  0  0  0  0  0  0  0  0  0  0\n",
      "  0  0  0  0  0  0  0  0  0  0  0  0  0  0  0  0  0  0  0  0  0  0  0  0  0  0  0  0\n",
      "  0  0  0  0  0  0  0  0  0  0  0  0  0  0  0  0  0  0  0  0  0  0  0  0  0  0  0  0\n"
     ]
    }
   ],
   "source": [
    "x= xr[0]\n",
    "#%%\n",
    "for i in range(28):\n",
    "    for j in range(28):\n",
    "        z= x[i,j]\n",
    "        print(f'{z:3d}', end='')\n",
    "    print()"
   ]
  },
  {
   "cell_type": "code",
   "execution_count": 26,
   "id": "64f9a07b",
   "metadata": {},
   "outputs": [
    {
     "data": {
      "text/plain": [
       "<matplotlib.image.AxesImage at 0x7fe016431960>"
      ]
     },
     "execution_count": 26,
     "metadata": {},
     "output_type": "execute_result"
    },
    {
     "data": {
      "image/png": "[encoded data removed]",
      "text/plain": [
       "<Figure size 640x480 with 1 Axes>"
      ]
     },
     "metadata": {},
     "output_type": "display_data"
    }
   ],
   "source": [
    "import matplotlib.pyplot as pl\n",
    "pl.imshow(x)"
   ]
  },
  {
   "cell_type": "code",
   "execution_count": 27,
   "id": "0525614c",
   "metadata": {},
   "outputs": [
    {
     "name": "stdout",
     "output_type": "stream",
     "text": [
      "y= 5\n"
     ]
    }
   ],
   "source": [
    "y= yr[0]\n",
    "print(f'{y= }')"
   ]
  },
  {
   "cell_type": "code",
   "execution_count": 28,
   "id": "a5b0dacf",
   "metadata": {},
   "outputs": [],
   "source": [
    "xr1= xr.reshape(-1, 28*28) /255\n",
    "xt1= xt.reshape(-1, 28*28) /255"
   ]
  },
  {
   "cell_type": "raw",
   "id": "518a4ce9",
   "metadata": {},
   "source": [
    "我將訓練epochs調整為30, batch_size調整為200"
   ]
  },
  {
   "cell_type": "code",
   "execution_count": 35,
   "id": "1fb0413e",
   "metadata": {
    "scrolled": true
   },
   "outputs": [
    {
     "name": "stdout",
     "output_type": "stream",
     "text": [
      "Epoch 1/30\n",
      "300/300 [==============================] - 1s 2ms/step - loss: 0.3525 - accuracy: 0.9006\n",
      "Epoch 2/30\n",
      "300/300 [==============================] - 1s 2ms/step - loss: 0.1497 - accuracy: 0.9558\n",
      "Epoch 3/30\n",
      "300/300 [==============================] - 1s 2ms/step - loss: 0.1025 - accuracy: 0.9693\n",
      "Epoch 4/30\n",
      "300/300 [==============================] - 1s 2ms/step - loss: 0.0781 - accuracy: 0.9766\n",
      "Epoch 5/30\n",
      "300/300 [==============================] - 1s 2ms/step - loss: 0.0626 - accuracy: 0.9808\n",
      "Epoch 6/30\n",
      "300/300 [==============================] - 1s 2ms/step - loss: 0.0509 - accuracy: 0.9847\n",
      "Epoch 7/30\n",
      "300/300 [==============================] - 1s 2ms/step - loss: 0.0420 - accuracy: 0.9871\n",
      "Epoch 8/30\n",
      "300/300 [==============================] - 1s 2ms/step - loss: 0.0350 - accuracy: 0.9891\n",
      "Epoch 9/30\n",
      "300/300 [==============================] - 1s 2ms/step - loss: 0.0286 - accuracy: 0.9910\n",
      "Epoch 10/30\n",
      "300/300 [==============================] - 1s 2ms/step - loss: 0.0242 - accuracy: 0.9928\n",
      "Epoch 11/30\n",
      "300/300 [==============================] - 1s 2ms/step - loss: 0.0203 - accuracy: 0.9940\n",
      "Epoch 12/30\n",
      "300/300 [==============================] - 1s 2ms/step - loss: 0.0169 - accuracy: 0.9949\n",
      "Epoch 13/30\n",
      "300/300 [==============================] - 1s 2ms/step - loss: 0.0146 - accuracy: 0.9955\n",
      "Epoch 14/30\n",
      "300/300 [==============================] - 1s 2ms/step - loss: 0.0125 - accuracy: 0.9964\n",
      "Epoch 15/30\n",
      "300/300 [==============================] - 1s 2ms/step - loss: 0.0106 - accuracy: 0.9973\n",
      "Epoch 16/30\n",
      "300/300 [==============================] - 1s 2ms/step - loss: 0.0090 - accuracy: 0.9973\n",
      "Epoch 17/30\n",
      "300/300 [==============================] - 1s 2ms/step - loss: 0.0077 - accuracy: 0.9979\n",
      "Epoch 18/30\n",
      "300/300 [==============================] - 1s 2ms/step - loss: 0.0067 - accuracy: 0.9982\n",
      "Epoch 19/30\n",
      "300/300 [==============================] - 1s 2ms/step - loss: 0.0056 - accuracy: 0.9986\n",
      "Epoch 20/30\n",
      "300/300 [==============================] - 1s 2ms/step - loss: 0.0054 - accuracy: 0.9984\n",
      "Epoch 21/30\n",
      "300/300 [==============================] - 1s 2ms/step - loss: 0.0043 - accuracy: 0.9989\n",
      "Epoch 22/30\n",
      "300/300 [==============================] - 1s 2ms/step - loss: 0.0037 - accuracy: 0.9990\n",
      "Epoch 23/30\n",
      "300/300 [==============================] - 1s 2ms/step - loss: 0.0036 - accuracy: 0.9989\n",
      "Epoch 24/30\n",
      "300/300 [==============================] - 1s 2ms/step - loss: 0.0030 - accuracy: 0.9992\n",
      "Epoch 25/30\n",
      "300/300 [==============================] - 1s 2ms/step - loss: 0.0028 - accuracy: 0.9991\n",
      "Epoch 26/30\n",
      "300/300 [==============================] - 1s 2ms/step - loss: 0.0024 - accuracy: 0.9992\n",
      "Epoch 27/30\n",
      "300/300 [==============================] - 1s 2ms/step - loss: 0.0018 - accuracy: 0.9994\n",
      "Epoch 28/30\n",
      "300/300 [==============================] - 1s 2ms/step - loss: 0.0017 - accuracy: 0.9995\n",
      "Epoch 29/30\n",
      "300/300 [==============================] - 1s 3ms/step - loss: 0.0017 - accuracy: 0.9995\n",
      "Epoch 30/30\n",
      "300/300 [==============================] - 1s 2ms/step - loss: 0.0016 - accuracy: 0.9994\n",
      "313/313 [==============================] - 0s 650us/step - loss: 0.1192 - accuracy: 0.9808\n"
     ]
    },
    {
     "data": {
      "text/plain": [
       "[0.11919508129358292, 0.9807999730110168]"
      ]
     },
     "execution_count": 35,
     "metadata": {},
     "output_type": "execute_result"
    }
   ],
   "source": [
    "aModel= keras.Sequential([\n",
    "    keras.Input(28*28),\n",
    "    keras.layers.Dense(150, activation= 'relu'), \n",
    "    keras.layers.Dense(50,  activation= 'relu'), \n",
    "    keras.layers.Dense(10,  activation= 'softmax')\n",
    "    ])\n",
    "\n",
    "aModel.compile(\n",
    "    loss=     'sparse_categorical_crossentropy',\n",
    "    metrics= ['accuracy']\n",
    "    )\n",
    "\n",
    "#開始訓練模型\n",
    "aModel.fit(xr1, yr, \n",
    "           epochs= 30, \n",
    "           batch_size= 200)\n",
    "\n",
    "#評估模型成效\n",
    "aModel.evaluate(xt1, yt) "
   ]
  },
  {
   "cell_type": "markdown",
   "id": "1e650b92",
   "metadata": {},
   "source": [
    "目前我只改變最基本的epoch以及batch_size，但光是改這兩個參數能提高的效果有限，不是調愈大準確率就會愈高，是有極限的\n",
    "\n",
    "# 我認為還能夠提升準確率的方法有：\n",
    "1.增加資料集\n",
    "2.調整learning rate，不可過大否則模型不會收斂；不可過小否則模型會收斂過快\n",
    "3.調整layer\n",
    "4.修改loss function\n",
    "5.使用優化器(optimizer)，有方法一stochastic gradient decent、方法二Momentum、方法三AdaGrad以及方法四Adam(Momentum+AdaGrad)，目前最常見的方法是Adam"
   ]
  },
  {
   "cell_type": "code",
   "execution_count": 37,
   "id": "54f7ee9e",
   "metadata": {},
   "outputs": [
    {
     "name": "stdout",
     "output_type": "stream",
     "text": [
      "Model: \"sequential_9\"\n",
      "_________________________________________________________________\n",
      " Layer (type)                Output Shape              Param #   \n",
      "=================================================================\n",
      " dense_26 (Dense)            (None, 150)               117750    \n",
      "                                                                 \n",
      " dense_27 (Dense)            (None, 50)                7550      \n",
      "                                                                 \n",
      " dense_28 (Dense)            (None, 10)                510       \n",
      "                                                                 \n",
      "=================================================================\n",
      "Total params: 125,810\n",
      "Trainable params: 125,810\n",
      "Non-trainable params: 0\n",
      "_________________________________________________________________\n",
      "You must install pydot (`pip install pydot`) and install graphviz (see instructions at https://graphviz.gitlab.io/download/) for plot_model/model_to_dot to work.\n"
     ]
    }
   ],
   "source": [
    "aModel.summary()\n",
    "\n",
    "keras.utils.plot_model(aModel, \n",
    "    show_shapes= True, \n",
    "    show_layer_activations= True)"
   ]
  },
  {
   "cell_type": "code",
   "execution_count": null,
   "id": "c677192f",
   "metadata": {},
   "outputs": [],
   "source": []
  }
 ],
 "metadata": {
  "kernelspec": {
   "display_name": "Python 3 (ipykernel)",
   "language": "python",
   "name": "python3"
  },
  "language_info": {
   "codemirror_mode": {
    "name": "ipython",
    "version": 3
   },
   "file_extension": ".py",
   "mimetype": "text/x-python",
   "name": "python",
   "nbconvert_exporter": "python",
   "pygments_lexer": "ipython3",
   "version": "3.10.4"
  }
 },
 "nbformat": 4,
 "nbformat_minor": 5
}
