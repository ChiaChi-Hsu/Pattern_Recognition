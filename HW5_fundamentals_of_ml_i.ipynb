{
  "cells": [
    {
      "cell_type": "markdown",
      "metadata": {
        "id": "zj8JISar_3tB"
      },
      "source": [
        "This is a companion notebook for the book [Deep Learning with Python, Second Edition](https://www.manning.com/books/deep-learning-with-python-second-edition?a_aid=keras&a_bid=76564dff). For readability, it only contains runnable code blocks and section titles, and omits everything else in the book: text paragraphs, figures, and pseudocode.\n",
        "\n",
        "**If you want to be able to follow what's going on, I recommend reading the notebook side by side with your copy of the book.**\n",
        "\n",
        "This notebook was generated for TensorFlow 2.6."
      ]
    },
    {
      "cell_type": "markdown",
      "metadata": {
        "id": "zJClTia0_3tD"
      },
      "source": [
        "# Fundamentals of machine learning"
      ]
    },
    {
      "cell_type": "markdown",
      "metadata": {
        "id": "K48ffS1b_3tE"
      },
      "source": [
        "## Generalization: The goal of machine learning"
      ]
    },
    {
      "cell_type": "markdown",
      "metadata": {
        "id": "3B3vLwaD_3tE"
      },
      "source": [
        "### Underfitting and overfitting"
      ]
    },
    {
      "cell_type": "markdown",
      "metadata": {
        "id": "51vSwx-u_3tF"
      },
      "source": [
        "#### Noisy training data"
      ]
    },
    {
      "cell_type": "markdown",
      "metadata": {
        "id": "hLzKQeD2_3tF"
      },
      "source": [
        "#### Ambiguous features"
      ]
    },
    {
      "cell_type": "markdown",
      "metadata": {
        "id": "ZUV-jAHP_3tF"
      },
      "source": [
        "#### Rare features and spurious correlations"
      ]
    },
    {
      "cell_type": "markdown",
      "metadata": {
        "id": "IiEm4JB3_3tF"
      },
      "source": [
        "**Adding white-noise channels or all-zeros channels to MNIST**"
      ]
    },
    {
      "cell_type": "code",
      "execution_count": 1,
      "metadata": {
        "id": "hTJdcoP1_3tG",
        "outputId": "2de5130a-1bed-4dee-c775-e647e718d891",
        "colab": {
          "base_uri": "https://localhost:8080/"
        }
      },
      "outputs": [
        {
          "output_type": "stream",
          "name": "stdout",
          "text": [
            "Downloading data from https://storage.googleapis.com/tensorflow/tf-keras-datasets/mnist.npz\n",
            "11490434/11490434 [==============================] - 0s 0us/step\n"
          ]
        }
      ],
      "source": [
        "from tensorflow.keras.datasets import mnist\n",
        "import numpy as np\n",
        "\n",
        "(train_images, train_labels), _ = mnist.load_data()\n",
        "train_images = train_images.reshape((60000, 28 * 28))\n",
        "train_images = train_images.astype(\"float32\") / 255\n",
        "\n",
        "train_images_with_noise_channels = np.concatenate(\n",
        "    [train_images, np.random.random((len(train_images), 784))], axis=1)\n",
        "\n",
        "train_images_with_zeros_channels = np.concatenate(\n",
        "    [train_images, np.zeros((len(train_images), 784))], axis=1)"
      ]
    },
    {
      "cell_type": "markdown",
      "metadata": {
        "id": "4v2Vq_gN_3tG"
      },
      "source": [
        "**Training the same model on MNIST data with noise channels or all-zero channels**"
      ]
    },
    {
      "cell_type": "code",
      "execution_count": 2,
      "metadata": {
        "id": "N-C6kxwT_3tH",
        "outputId": "2b76c8b0-65f0-4e96-f2ff-1d4d23f90453",
        "colab": {
          "base_uri": "https://localhost:8080/"
        }
      },
      "outputs": [
        {
          "output_type": "stream",
          "name": "stdout",
          "text": [
            "Epoch 1/10\n",
            "375/375 [==============================] - 8s 20ms/step - loss: 0.6327 - accuracy: 0.8094 - val_loss: 0.2732 - val_accuracy: 0.9226\n",
            "Epoch 2/10\n",
            "375/375 [==============================] - 10s 28ms/step - loss: 0.2433 - accuracy: 0.9246 - val_loss: 0.1912 - val_accuracy: 0.9409\n",
            "Epoch 3/10\n",
            "375/375 [==============================] - 14s 37ms/step - loss: 0.1596 - accuracy: 0.9492 - val_loss: 0.1963 - val_accuracy: 0.9408\n",
            "Epoch 4/10\n",
            "375/375 [==============================] - 8s 21ms/step - loss: 0.1140 - accuracy: 0.9640 - val_loss: 0.1314 - val_accuracy: 0.9620\n",
            "Epoch 5/10\n",
            "375/375 [==============================] - 8s 21ms/step - loss: 0.0842 - accuracy: 0.9735 - val_loss: 0.1389 - val_accuracy: 0.9604\n",
            "Epoch 6/10\n",
            "375/375 [==============================] - 7s 20ms/step - loss: 0.0621 - accuracy: 0.9798 - val_loss: 0.1280 - val_accuracy: 0.9651\n",
            "Epoch 7/10\n",
            "375/375 [==============================] - 8s 20ms/step - loss: 0.0445 - accuracy: 0.9855 - val_loss: 0.1466 - val_accuracy: 0.9583\n",
            "Epoch 8/10\n",
            "375/375 [==============================] - 8s 21ms/step - loss: 0.0339 - accuracy: 0.9888 - val_loss: 0.1449 - val_accuracy: 0.9622\n",
            "Epoch 9/10\n",
            "375/375 [==============================] - 8s 21ms/step - loss: 0.0258 - accuracy: 0.9916 - val_loss: 0.1792 - val_accuracy: 0.9583\n",
            "Epoch 10/10\n",
            "375/375 [==============================] - 7s 20ms/step - loss: 0.0204 - accuracy: 0.9929 - val_loss: 0.1294 - val_accuracy: 0.9703\n",
            "Epoch 1/10\n",
            "375/375 [==============================] - 8s 21ms/step - loss: 0.2933 - accuracy: 0.9142 - val_loss: 0.1612 - val_accuracy: 0.9520\n",
            "Epoch 2/10\n",
            "375/375 [==============================] - 8s 21ms/step - loss: 0.1213 - accuracy: 0.9641 - val_loss: 0.1119 - val_accuracy: 0.9663\n",
            "Epoch 3/10\n",
            "375/375 [==============================] - 8s 21ms/step - loss: 0.0790 - accuracy: 0.9773 - val_loss: 0.0899 - val_accuracy: 0.9736\n",
            "Epoch 4/10\n",
            "375/375 [==============================] - 7s 20ms/step - loss: 0.0578 - accuracy: 0.9827 - val_loss: 0.0887 - val_accuracy: 0.9763\n",
            "Epoch 5/10\n",
            "375/375 [==============================] - 8s 21ms/step - loss: 0.0428 - accuracy: 0.9875 - val_loss: 0.0934 - val_accuracy: 0.9726\n",
            "Epoch 6/10\n",
            "375/375 [==============================] - 8s 23ms/step - loss: 0.0323 - accuracy: 0.9900 - val_loss: 0.0819 - val_accuracy: 0.9776\n",
            "Epoch 7/10\n",
            "375/375 [==============================] - 8s 21ms/step - loss: 0.0251 - accuracy: 0.9926 - val_loss: 0.0820 - val_accuracy: 0.9781\n",
            "Epoch 8/10\n",
            "375/375 [==============================] - 9s 24ms/step - loss: 0.0193 - accuracy: 0.9940 - val_loss: 0.0876 - val_accuracy: 0.9776\n",
            "Epoch 9/10\n",
            "375/375 [==============================] - 8s 21ms/step - loss: 0.0144 - accuracy: 0.9958 - val_loss: 0.0878 - val_accuracy: 0.9793\n",
            "Epoch 10/10\n",
            "375/375 [==============================] - 7s 20ms/step - loss: 0.0111 - accuracy: 0.9968 - val_loss: 0.0870 - val_accuracy: 0.9794\n"
          ]
        }
      ],
      "source": [
        "from tensorflow import keras\n",
        "from tensorflow.keras import layers\n",
        "\n",
        "def get_model():\n",
        "    model = keras.Sequential([\n",
        "        layers.Dense(512, activation=\"relu\"),\n",
        "        layers.Dense(10, activation=\"softmax\")\n",
        "    ])\n",
        "    model.compile(optimizer=\"rmsprop\",\n",
        "                  loss=\"sparse_categorical_crossentropy\",\n",
        "                  metrics=[\"accuracy\"])\n",
        "    return model\n",
        "\n",
        "model = get_model()\n",
        "history_noise = model.fit(\n",
        "    train_images_with_noise_channels, train_labels,\n",
        "    epochs=10,\n",
        "    batch_size=128,\n",
        "    validation_split=0.2)\n",
        "\n",
        "model = get_model()\n",
        "history_zeros = model.fit(\n",
        "    train_images_with_zeros_channels, train_labels,\n",
        "    epochs=10,\n",
        "    batch_size=128,\n",
        "    validation_split=0.2)"
      ]
    },
    {
      "cell_type": "markdown",
      "metadata": {
        "id": "nGEHYk31_3tH"
      },
      "source": [
        "**Plotting a validation accuracy comparison**"
      ]
    },
    {
      "cell_type": "code",
      "execution_count": 3,
      "metadata": {
        "id": "JUG13SSj_3tH",
        "outputId": "83509948-1c73-45df-ab14-bdeda4d23374",
        "colab": {
          "base_uri": "https://localhost:8080/",
          "height": 312
        }
      },
      "outputs": [
        {
          "output_type": "execute_result",
          "data": {
            "text/plain": [
              "<matplotlib.legend.Legend at 0x7fdee8386490>"
            ]
          },
          "metadata": {},
          "execution_count": 3
        },
        {
          "output_type": "display_data",
          "data": {
            "text/plain": [
              "<Figure size 432x288 with 1 Axes>"
            ],
            "image/png": "[encoded data removed]"
          },
          "metadata": {
            "needs_background": "light"
          }
        }
      ],
      "source": [
        "import matplotlib.pyplot as plt\n",
        "val_acc_noise = history_noise.history[\"val_accuracy\"]\n",
        "val_acc_zeros = history_zeros.history[\"val_accuracy\"]\n",
        "epochs = range(1, 11)\n",
        "plt.plot(epochs, val_acc_noise, \"b-\",\n",
        "         label=\"Validation accuracy with noise channels\")\n",
        "plt.plot(epochs, val_acc_zeros, \"b--\",\n",
        "         label=\"Validation accuracy with zeros channels\")\n",
        "plt.title(\"Effect of noise channels on validation accuracy\")\n",
        "plt.xlabel(\"Epochs\")\n",
        "plt.ylabel(\"Accuracy\")\n",
        "plt.legend()"
      ]
    },
    {
      "cell_type": "markdown",
      "metadata": {
        "id": "aAiplgal_3tH"
      },
      "source": [
        "### The nature of generalization in deep learning"
      ]
    },
    {
      "cell_type": "markdown",
      "metadata": {
        "id": "h_KCWtg1_3tI"
      },
      "source": [
        "**Fitting a MNIST model with randomly shuffled labels**"
      ]
    },
    {
      "cell_type": "code",
      "execution_count": 4,
      "metadata": {
        "id": "KRd7sn-6_3tI",
        "outputId": "5671bbab-04a1-4516-84da-c232e5f1a98b",
        "colab": {
          "base_uri": "https://localhost:8080/"
        }
      },
      "outputs": [
        {
          "output_type": "stream",
          "name": "stdout",
          "text": [
            "Epoch 1/100\n",
            "375/375 [==============================] - 6s 15ms/step - loss: 2.3170 - accuracy: 0.1029 - val_loss: 2.3074 - val_accuracy: 0.1005\n",
            "Epoch 2/100\n",
            "375/375 [==============================] - 5s 13ms/step - loss: 2.3000 - accuracy: 0.1156 - val_loss: 2.3157 - val_accuracy: 0.1059\n",
            "Epoch 3/100\n",
            "375/375 [==============================] - 5s 13ms/step - loss: 2.2911 - accuracy: 0.1261 - val_loss: 2.3204 - val_accuracy: 0.0982\n",
            "Epoch 4/100\n",
            "375/375 [==============================] - 5s 12ms/step - loss: 2.2785 - accuracy: 0.1381 - val_loss: 2.3274 - val_accuracy: 0.1032\n",
            "Epoch 5/100\n",
            "375/375 [==============================] - 5s 12ms/step - loss: 2.2618 - accuracy: 0.1532 - val_loss: 2.3386 - val_accuracy: 0.0980\n",
            "Epoch 6/100\n",
            "375/375 [==============================] - 4s 11ms/step - loss: 2.2415 - accuracy: 0.1670 - val_loss: 2.3594 - val_accuracy: 0.0941\n",
            "Epoch 7/100\n",
            "375/375 [==============================] - 4s 12ms/step - loss: 2.2177 - accuracy: 0.1813 - val_loss: 2.3705 - val_accuracy: 0.0962\n",
            "Epoch 8/100\n",
            "375/375 [==============================] - 4s 12ms/step - loss: 2.1926 - accuracy: 0.1965 - val_loss: 2.3844 - val_accuracy: 0.0922\n",
            "Epoch 9/100\n",
            "375/375 [==============================] - 5s 13ms/step - loss: 2.1639 - accuracy: 0.2104 - val_loss: 2.4113 - val_accuracy: 0.0956\n",
            "Epoch 10/100\n",
            "375/375 [==============================] - 5s 13ms/step - loss: 2.1332 - accuracy: 0.2285 - val_loss: 2.4297 - val_accuracy: 0.0967\n",
            "Epoch 11/100\n",
            "375/375 [==============================] - 4s 12ms/step - loss: 2.1016 - accuracy: 0.2428 - val_loss: 2.4620 - val_accuracy: 0.0948\n",
            "Epoch 12/100\n",
            "375/375 [==============================] - 5s 13ms/step - loss: 2.0703 - accuracy: 0.2573 - val_loss: 2.4735 - val_accuracy: 0.0951\n",
            "Epoch 13/100\n",
            "375/375 [==============================] - 5s 13ms/step - loss: 2.0359 - accuracy: 0.2709 - val_loss: 2.5009 - val_accuracy: 0.0944\n",
            "Epoch 14/100\n",
            "375/375 [==============================] - 5s 13ms/step - loss: 2.0038 - accuracy: 0.2841 - val_loss: 2.5326 - val_accuracy: 0.0957\n",
            "Epoch 15/100\n",
            "375/375 [==============================] - 5s 13ms/step - loss: 1.9692 - accuracy: 0.2990 - val_loss: 2.5594 - val_accuracy: 0.0943\n",
            "Epoch 16/100\n",
            "375/375 [==============================] - 5s 12ms/step - loss: 1.9350 - accuracy: 0.3133 - val_loss: 2.5973 - val_accuracy: 0.0960\n",
            "Epoch 17/100\n",
            "375/375 [==============================] - 5s 13ms/step - loss: 1.9020 - accuracy: 0.3300 - val_loss: 2.6311 - val_accuracy: 0.0948\n",
            "Epoch 18/100\n",
            "375/375 [==============================] - 5s 13ms/step - loss: 1.8689 - accuracy: 0.3409 - val_loss: 2.6547 - val_accuracy: 0.0959\n",
            "Epoch 19/100\n",
            "375/375 [==============================] - 5s 13ms/step - loss: 1.8360 - accuracy: 0.3557 - val_loss: 2.6949 - val_accuracy: 0.0952\n",
            "Epoch 20/100\n",
            "375/375 [==============================] - 5s 12ms/step - loss: 1.8041 - accuracy: 0.3710 - val_loss: 2.7399 - val_accuracy: 0.0943\n",
            "Epoch 21/100\n",
            "375/375 [==============================] - 5s 12ms/step - loss: 1.7722 - accuracy: 0.3815 - val_loss: 2.7610 - val_accuracy: 0.0972\n",
            "Epoch 22/100\n",
            "375/375 [==============================] - 4s 12ms/step - loss: 1.7426 - accuracy: 0.3917 - val_loss: 2.7972 - val_accuracy: 0.0950\n",
            "Epoch 23/100\n",
            "375/375 [==============================] - 5s 12ms/step - loss: 1.7102 - accuracy: 0.4058 - val_loss: 2.8294 - val_accuracy: 0.1013\n",
            "Epoch 24/100\n",
            "375/375 [==============================] - 5s 12ms/step - loss: 1.6841 - accuracy: 0.4158 - val_loss: 2.8703 - val_accuracy: 0.1006\n",
            "Epoch 25/100\n",
            "375/375 [==============================] - 5s 13ms/step - loss: 1.6537 - accuracy: 0.4281 - val_loss: 2.9139 - val_accuracy: 0.1002\n",
            "Epoch 26/100\n",
            "375/375 [==============================] - 5s 13ms/step - loss: 1.6245 - accuracy: 0.4378 - val_loss: 2.9695 - val_accuracy: 0.0982\n",
            "Epoch 27/100\n",
            "375/375 [==============================] - 5s 12ms/step - loss: 1.5981 - accuracy: 0.4496 - val_loss: 2.9935 - val_accuracy: 0.0988\n",
            "Epoch 28/100\n",
            "375/375 [==============================] - 5s 12ms/step - loss: 1.5714 - accuracy: 0.4584 - val_loss: 3.0410 - val_accuracy: 0.0998\n",
            "Epoch 29/100\n",
            "375/375 [==============================] - 5s 13ms/step - loss: 1.5443 - accuracy: 0.4692 - val_loss: 3.1071 - val_accuracy: 0.0991\n",
            "Epoch 30/100\n",
            "375/375 [==============================] - 5s 13ms/step - loss: 1.5192 - accuracy: 0.4787 - val_loss: 3.1055 - val_accuracy: 0.1005\n",
            "Epoch 31/100\n",
            "375/375 [==============================] - 5s 12ms/step - loss: 1.4931 - accuracy: 0.4870 - val_loss: 3.1562 - val_accuracy: 0.1018\n",
            "Epoch 32/100\n",
            "375/375 [==============================] - 4s 12ms/step - loss: 1.4675 - accuracy: 0.4969 - val_loss: 3.2129 - val_accuracy: 0.1032\n",
            "Epoch 33/100\n",
            "375/375 [==============================] - 4s 12ms/step - loss: 1.4458 - accuracy: 0.5044 - val_loss: 3.2536 - val_accuracy: 0.1022\n",
            "Epoch 34/100\n",
            "375/375 [==============================] - 5s 13ms/step - loss: 1.4209 - accuracy: 0.5147 - val_loss: 3.3024 - val_accuracy: 0.1013\n",
            "Epoch 35/100\n",
            "375/375 [==============================] - 5s 13ms/step - loss: 1.3985 - accuracy: 0.5215 - val_loss: 3.3214 - val_accuracy: 0.0976\n",
            "Epoch 36/100\n",
            "375/375 [==============================] - 5s 12ms/step - loss: 1.3730 - accuracy: 0.5328 - val_loss: 3.4130 - val_accuracy: 0.0978\n",
            "Epoch 37/100\n",
            "375/375 [==============================] - 5s 13ms/step - loss: 1.3529 - accuracy: 0.5399 - val_loss: 3.4325 - val_accuracy: 0.0997\n",
            "Epoch 38/100\n",
            "375/375 [==============================] - 5s 13ms/step - loss: 1.3307 - accuracy: 0.5487 - val_loss: 3.4864 - val_accuracy: 0.1004\n",
            "Epoch 39/100\n",
            "375/375 [==============================] - 5s 13ms/step - loss: 1.3096 - accuracy: 0.5563 - val_loss: 3.5358 - val_accuracy: 0.0980\n",
            "Epoch 40/100\n",
            "375/375 [==============================] - 5s 13ms/step - loss: 1.2883 - accuracy: 0.5638 - val_loss: 3.5869 - val_accuracy: 0.0993\n",
            "Epoch 41/100\n",
            "375/375 [==============================] - 5s 13ms/step - loss: 1.2709 - accuracy: 0.5696 - val_loss: 3.6286 - val_accuracy: 0.1031\n",
            "Epoch 42/100\n",
            "375/375 [==============================] - 5s 12ms/step - loss: 1.2500 - accuracy: 0.5770 - val_loss: 3.6732 - val_accuracy: 0.0994\n",
            "Epoch 43/100\n",
            "375/375 [==============================] - 5s 13ms/step - loss: 1.2286 - accuracy: 0.5828 - val_loss: 3.7476 - val_accuracy: 0.0993\n",
            "Epoch 44/100\n",
            "375/375 [==============================] - 5s 14ms/step - loss: 1.2113 - accuracy: 0.5914 - val_loss: 3.7634 - val_accuracy: 0.0990\n",
            "Epoch 45/100\n",
            "375/375 [==============================] - 5s 13ms/step - loss: 1.1915 - accuracy: 0.5983 - val_loss: 3.8064 - val_accuracy: 0.1049\n",
            "Epoch 46/100\n",
            "375/375 [==============================] - 5s 13ms/step - loss: 1.1723 - accuracy: 0.6071 - val_loss: 3.8685 - val_accuracy: 0.0993\n",
            "Epoch 47/100\n",
            "375/375 [==============================] - 4s 12ms/step - loss: 1.1557 - accuracy: 0.6106 - val_loss: 3.9124 - val_accuracy: 0.0993\n",
            "Epoch 48/100\n",
            "375/375 [==============================] - 5s 13ms/step - loss: 1.1378 - accuracy: 0.6145 - val_loss: 3.9687 - val_accuracy: 0.1044\n",
            "Epoch 49/100\n",
            "375/375 [==============================] - 5s 13ms/step - loss: 1.1207 - accuracy: 0.6234 - val_loss: 4.0231 - val_accuracy: 0.1007\n",
            "Epoch 50/100\n",
            "375/375 [==============================] - 5s 13ms/step - loss: 1.1041 - accuracy: 0.6278 - val_loss: 4.0850 - val_accuracy: 0.1015\n",
            "Epoch 51/100\n",
            "375/375 [==============================] - 5s 13ms/step - loss: 1.0859 - accuracy: 0.6360 - val_loss: 4.1337 - val_accuracy: 0.0983\n",
            "Epoch 52/100\n",
            "375/375 [==============================] - 5s 12ms/step - loss: 1.0700 - accuracy: 0.6408 - val_loss: 4.1791 - val_accuracy: 0.0976\n",
            "Epoch 53/100\n",
            "375/375 [==============================] - 5s 13ms/step - loss: 1.0555 - accuracy: 0.6454 - val_loss: 4.2655 - val_accuracy: 0.0994\n",
            "Epoch 54/100\n",
            "375/375 [==============================] - 5s 12ms/step - loss: 1.0381 - accuracy: 0.6518 - val_loss: 4.3148 - val_accuracy: 0.1027\n",
            "Epoch 55/100\n",
            "375/375 [==============================] - 5s 13ms/step - loss: 1.0237 - accuracy: 0.6589 - val_loss: 4.3454 - val_accuracy: 0.1032\n",
            "Epoch 56/100\n",
            "375/375 [==============================] - 6s 16ms/step - loss: 1.0081 - accuracy: 0.6649 - val_loss: 4.4377 - val_accuracy: 0.1045\n",
            "Epoch 57/100\n",
            "375/375 [==============================] - 5s 13ms/step - loss: 0.9941 - accuracy: 0.6678 - val_loss: 4.4908 - val_accuracy: 0.1020\n",
            "Epoch 58/100\n",
            "375/375 [==============================] - 5s 13ms/step - loss: 0.9794 - accuracy: 0.6723 - val_loss: 4.5102 - val_accuracy: 0.0991\n",
            "Epoch 59/100\n",
            "375/375 [==============================] - 5s 13ms/step - loss: 0.9645 - accuracy: 0.6779 - val_loss: 4.5834 - val_accuracy: 0.1027\n",
            "Epoch 60/100\n",
            "375/375 [==============================] - 5s 13ms/step - loss: 0.9509 - accuracy: 0.6818 - val_loss: 4.6385 - val_accuracy: 0.1004\n",
            "Epoch 61/100\n",
            "375/375 [==============================] - 5s 14ms/step - loss: 0.9370 - accuracy: 0.6890 - val_loss: 4.6682 - val_accuracy: 0.1015\n",
            "Epoch 62/100\n",
            "375/375 [==============================] - 5s 13ms/step - loss: 0.9227 - accuracy: 0.6936 - val_loss: 4.7657 - val_accuracy: 0.1006\n",
            "Epoch 63/100\n",
            "375/375 [==============================] - 5s 13ms/step - loss: 0.9090 - accuracy: 0.6981 - val_loss: 4.8004 - val_accuracy: 0.0993\n",
            "Epoch 64/100\n",
            "375/375 [==============================] - 5s 13ms/step - loss: 0.8959 - accuracy: 0.7028 - val_loss: 4.8342 - val_accuracy: 0.1034\n",
            "Epoch 65/100\n",
            "375/375 [==============================] - 4s 12ms/step - loss: 0.8844 - accuracy: 0.7052 - val_loss: 4.9164 - val_accuracy: 0.1011\n",
            "Epoch 66/100\n",
            "375/375 [==============================] - 5s 13ms/step - loss: 0.8712 - accuracy: 0.7109 - val_loss: 4.9802 - val_accuracy: 0.0986\n",
            "Epoch 67/100\n",
            "375/375 [==============================] - 5s 13ms/step - loss: 0.8578 - accuracy: 0.7164 - val_loss: 5.0155 - val_accuracy: 0.1014\n",
            "Epoch 68/100\n",
            "375/375 [==============================] - 5s 12ms/step - loss: 0.8466 - accuracy: 0.7200 - val_loss: 5.0961 - val_accuracy: 0.0998\n",
            "Epoch 69/100\n",
            "375/375 [==============================] - 4s 12ms/step - loss: 0.8346 - accuracy: 0.7237 - val_loss: 5.1525 - val_accuracy: 0.1024\n",
            "Epoch 70/100\n",
            "375/375 [==============================] - 4s 12ms/step - loss: 0.8218 - accuracy: 0.7287 - val_loss: 5.2069 - val_accuracy: 0.1023\n",
            "Epoch 71/100\n",
            "375/375 [==============================] - 4s 12ms/step - loss: 0.8111 - accuracy: 0.7328 - val_loss: 5.2571 - val_accuracy: 0.0993\n",
            "Epoch 72/100\n",
            "375/375 [==============================] - 5s 13ms/step - loss: 0.8001 - accuracy: 0.7337 - val_loss: 5.3303 - val_accuracy: 0.0995\n",
            "Epoch 73/100\n",
            "375/375 [==============================] - 5s 13ms/step - loss: 0.7885 - accuracy: 0.7410 - val_loss: 5.3962 - val_accuracy: 0.0988\n",
            "Epoch 74/100\n",
            "375/375 [==============================] - 5s 12ms/step - loss: 0.7783 - accuracy: 0.7428 - val_loss: 5.4238 - val_accuracy: 0.1005\n",
            "Epoch 75/100\n",
            "375/375 [==============================] - 5s 13ms/step - loss: 0.7663 - accuracy: 0.7470 - val_loss: 5.4927 - val_accuracy: 0.0980\n",
            "Epoch 76/100\n",
            "375/375 [==============================] - 5s 13ms/step - loss: 0.7572 - accuracy: 0.7504 - val_loss: 5.5385 - val_accuracy: 0.1029\n",
            "Epoch 77/100\n",
            "375/375 [==============================] - 5s 13ms/step - loss: 0.7483 - accuracy: 0.7537 - val_loss: 5.5939 - val_accuracy: 0.1009\n",
            "Epoch 78/100\n",
            "375/375 [==============================] - 5s 12ms/step - loss: 0.7344 - accuracy: 0.7578 - val_loss: 5.6738 - val_accuracy: 0.1008\n",
            "Epoch 79/100\n",
            "375/375 [==============================] - 5s 12ms/step - loss: 0.7261 - accuracy: 0.7604 - val_loss: 5.7371 - val_accuracy: 0.1002\n",
            "Epoch 80/100\n",
            "375/375 [==============================] - 5s 13ms/step - loss: 0.7166 - accuracy: 0.7649 - val_loss: 5.7750 - val_accuracy: 0.1033\n",
            "Epoch 81/100\n",
            "375/375 [==============================] - 5s 13ms/step - loss: 0.7054 - accuracy: 0.7672 - val_loss: 5.8540 - val_accuracy: 0.1026\n",
            "Epoch 82/100\n",
            "375/375 [==============================] - 5s 12ms/step - loss: 0.6971 - accuracy: 0.7721 - val_loss: 5.9358 - val_accuracy: 0.0997\n",
            "Epoch 83/100\n",
            "375/375 [==============================] - 5s 13ms/step - loss: 0.6871 - accuracy: 0.7732 - val_loss: 5.9965 - val_accuracy: 0.1009\n",
            "Epoch 84/100\n",
            "375/375 [==============================] - 5s 14ms/step - loss: 0.6795 - accuracy: 0.7783 - val_loss: 6.0128 - val_accuracy: 0.1027\n",
            "Epoch 85/100\n",
            "375/375 [==============================] - 5s 13ms/step - loss: 0.6698 - accuracy: 0.7798 - val_loss: 6.0824 - val_accuracy: 0.0990\n",
            "Epoch 86/100\n",
            "375/375 [==============================] - 5s 13ms/step - loss: 0.6587 - accuracy: 0.7839 - val_loss: 6.1736 - val_accuracy: 0.1017\n",
            "Epoch 87/100\n",
            "375/375 [==============================] - 5s 13ms/step - loss: 0.6509 - accuracy: 0.7867 - val_loss: 6.2642 - val_accuracy: 0.1003\n",
            "Epoch 88/100\n",
            "375/375 [==============================] - 5s 13ms/step - loss: 0.6439 - accuracy: 0.7888 - val_loss: 6.2739 - val_accuracy: 0.1030\n",
            "Epoch 89/100\n",
            "375/375 [==============================] - 5s 12ms/step - loss: 0.6366 - accuracy: 0.7919 - val_loss: 6.3581 - val_accuracy: 0.0979\n",
            "Epoch 90/100\n",
            "375/375 [==============================] - 4s 12ms/step - loss: 0.6275 - accuracy: 0.7960 - val_loss: 6.4084 - val_accuracy: 0.1003\n",
            "Epoch 91/100\n",
            "375/375 [==============================] - 5s 13ms/step - loss: 0.6164 - accuracy: 0.7993 - val_loss: 6.4642 - val_accuracy: 0.0995\n",
            "Epoch 92/100\n",
            "375/375 [==============================] - 5s 12ms/step - loss: 0.6076 - accuracy: 0.8008 - val_loss: 6.5652 - val_accuracy: 0.1031\n",
            "Epoch 93/100\n",
            "375/375 [==============================] - 4s 12ms/step - loss: 0.5999 - accuracy: 0.8041 - val_loss: 6.5856 - val_accuracy: 0.1032\n",
            "Epoch 94/100\n",
            "375/375 [==============================] - 5s 12ms/step - loss: 0.5916 - accuracy: 0.8074 - val_loss: 6.6760 - val_accuracy: 0.1050\n",
            "Epoch 95/100\n",
            "375/375 [==============================] - 5s 13ms/step - loss: 0.5825 - accuracy: 0.8106 - val_loss: 6.7730 - val_accuracy: 0.1009\n",
            "Epoch 96/100\n",
            "375/375 [==============================] - 4s 12ms/step - loss: 0.5780 - accuracy: 0.8125 - val_loss: 6.8259 - val_accuracy: 0.1016\n",
            "Epoch 97/100\n",
            "375/375 [==============================] - 5s 12ms/step - loss: 0.5678 - accuracy: 0.8146 - val_loss: 6.8691 - val_accuracy: 0.1047\n",
            "Epoch 98/100\n",
            "375/375 [==============================] - 5s 13ms/step - loss: 0.5612 - accuracy: 0.8191 - val_loss: 6.9593 - val_accuracy: 0.1015\n",
            "Epoch 99/100\n",
            "375/375 [==============================] - 5s 13ms/step - loss: 0.5539 - accuracy: 0.8199 - val_loss: 7.0048 - val_accuracy: 0.1018\n",
            "Epoch 100/100\n",
            "375/375 [==============================] - 5s 13ms/step - loss: 0.5474 - accuracy: 0.8223 - val_loss: 7.0588 - val_accuracy: 0.1027\n"
          ]
        },
        {
          "output_type": "execute_result",
          "data": {
            "text/plain": [
              "<keras.callbacks.History at 0x7fdee82dc410>"
            ]
          },
          "metadata": {},
          "execution_count": 4
        }
      ],
      "source": [
        "(train_images, train_labels), _ = mnist.load_data()\n",
        "train_images = train_images.reshape((60000, 28 * 28))\n",
        "train_images = train_images.astype(\"float32\") / 255\n",
        "\n",
        "random_train_labels = train_labels[:]\n",
        "np.random.shuffle(random_train_labels)\n",
        "\n",
        "model = keras.Sequential([\n",
        "    layers.Dense(512, activation=\"relu\"),\n",
        "    layers.Dense(10, activation=\"softmax\")\n",
        "])\n",
        "model.compile(optimizer=\"rmsprop\",\n",
        "              loss=\"sparse_categorical_crossentropy\",\n",
        "              metrics=[\"accuracy\"])\n",
        "model.fit(train_images, random_train_labels,\n",
        "          epochs=100,\n",
        "          batch_size=128,\n",
        "          validation_split=0.2)"
      ]
    },
    {
      "cell_type": "markdown",
      "metadata": {
        "id": "a2bgWsF9_3tI"
      },
      "source": [
        "#### The manifold hypothesis"
      ]
    },
    {
      "cell_type": "markdown",
      "metadata": {
        "id": "zUWRebWw_3tI"
      },
      "source": [
        "#### Interpolation as a source of generalization"
      ]
    },
    {
      "cell_type": "markdown",
      "metadata": {
        "id": "mYl0MdjO_3tI"
      },
      "source": [
        "#### Why deep learning works"
      ]
    },
    {
      "cell_type": "markdown",
      "metadata": {
        "id": "r6vA2WdT_3tI"
      },
      "source": [
        "#### Training data is paramount"
      ]
    },
    {
      "cell_type": "markdown",
      "metadata": {
        "id": "mcsV1DPS_3tJ"
      },
      "source": [
        "## Evaluating machine-learning models"
      ]
    },
    {
      "cell_type": "markdown",
      "metadata": {
        "id": "e0vg1LhG_3tJ"
      },
      "source": [
        "### Training, validation, and test sets"
      ]
    },
    {
      "cell_type": "markdown",
      "metadata": {
        "id": "dB8DoFOc_3tJ"
      },
      "source": [
        "#### Simple hold-out validation"
      ]
    },
    {
      "cell_type": "markdown",
      "metadata": {
        "id": "TrEUF74f_3tJ"
      },
      "source": [
        "#### K-fold validation"
      ]
    },
    {
      "cell_type": "markdown",
      "metadata": {
        "id": "JdZKfbe4_3tJ"
      },
      "source": [
        "#### Iterated K-fold validation with shuffling"
      ]
    },
    {
      "cell_type": "markdown",
      "metadata": {
        "id": "9xX51eAi_3tJ"
      },
      "source": [
        "### Beating a common-sense baseline"
      ]
    },
    {
      "cell_type": "markdown",
      "metadata": {
        "id": "--EiGBa3_3tJ"
      },
      "source": [
        "### Things to keep in mind about model evaluation"
      ]
    },
    {
      "cell_type": "markdown",
      "metadata": {
        "id": "ZWqz1QsG_3tJ"
      },
      "source": [
        "## Improving model fit"
      ]
    },
    {
      "cell_type": "markdown",
      "metadata": {
        "id": "1kTS6PfS_3tJ"
      },
      "source": [
        "### Tuning key gradient descent parameters"
      ]
    },
    {
      "cell_type": "markdown",
      "metadata": {
        "id": "hP0fnLao_3tK"
      },
      "source": [
        "**Training a MNIST model with an incorrectly high learning rate**"
      ]
    },
    {
      "cell_type": "code",
      "execution_count": 5,
      "metadata": {
        "id": "Cq0sm884_3tK",
        "outputId": "28f62995-f05f-4128-a00b-be411dbf59cd",
        "colab": {
          "base_uri": "https://localhost:8080/"
        }
      },
      "outputs": [
        {
          "output_type": "stream",
          "name": "stdout",
          "text": [
            "Epoch 1/10\n",
            "375/375 [==============================] - 6s 14ms/step - loss: 665.4363 - accuracy: 0.3265 - val_loss: 2.2609 - val_accuracy: 0.2140\n",
            "Epoch 2/10\n",
            "375/375 [==============================] - 5s 13ms/step - loss: 4.4430 - accuracy: 0.2568 - val_loss: 2.1823 - val_accuracy: 0.2335\n",
            "Epoch 3/10\n",
            "375/375 [==============================] - 5s 13ms/step - loss: 3.3409 - accuracy: 0.2362 - val_loss: 2.4402 - val_accuracy: 0.2758\n",
            "Epoch 4/10\n",
            "375/375 [==============================] - 4s 12ms/step - loss: 2.7180 - accuracy: 0.2493 - val_loss: 2.2928 - val_accuracy: 0.2607\n",
            "Epoch 5/10\n",
            "375/375 [==============================] - 6s 15ms/step - loss: 2.8682 - accuracy: 0.2756 - val_loss: 2.6287 - val_accuracy: 0.2293\n",
            "Epoch 6/10\n",
            "375/375 [==============================] - 5s 12ms/step - loss: 2.8329 - accuracy: 0.2697 - val_loss: 3.1695 - val_accuracy: 0.3047\n",
            "Epoch 7/10\n",
            "375/375 [==============================] - 5s 12ms/step - loss: 2.6308 - accuracy: 0.2645 - val_loss: 3.9763 - val_accuracy: 0.2632\n",
            "Epoch 8/10\n",
            "375/375 [==============================] - 5s 13ms/step - loss: 2.5652 - accuracy: 0.2590 - val_loss: 2.8359 - val_accuracy: 0.2729\n",
            "Epoch 9/10\n",
            "375/375 [==============================] - 5s 13ms/step - loss: 2.4314 - accuracy: 0.2662 - val_loss: 2.9382 - val_accuracy: 0.3070\n",
            "Epoch 10/10\n",
            "375/375 [==============================] - 5s 13ms/step - loss: 2.4167 - accuracy: 0.2863 - val_loss: 2.0425 - val_accuracy: 0.2754\n"
          ]
        },
        {
          "output_type": "execute_result",
          "data": {
            "text/plain": [
              "<keras.callbacks.History at 0x7fdee4527150>"
            ]
          },
          "metadata": {},
          "execution_count": 5
        }
      ],
      "source": [
        "(train_images, train_labels), _ = mnist.load_data()\n",
        "train_images = train_images.reshape((60000, 28 * 28))\n",
        "train_images = train_images.astype(\"float32\") / 255\n",
        "\n",
        "model = keras.Sequential([\n",
        "    layers.Dense(512, activation=\"relu\"),\n",
        "    layers.Dense(10, activation=\"softmax\")\n",
        "])\n",
        "model.compile(optimizer=keras.optimizers.RMSprop(1.),\n",
        "              loss=\"sparse_categorical_crossentropy\",\n",
        "              metrics=[\"accuracy\"])\n",
        "model.fit(train_images, train_labels,\n",
        "          epochs=10,\n",
        "          batch_size=128,\n",
        "          validation_split=0.2)"
      ]
    },
    {
      "cell_type": "markdown",
      "metadata": {
        "id": "v_YD7Sr0_3tK"
      },
      "source": [
        "**The same model with a more appropriate learning rate**"
      ]
    },
    {
      "cell_type": "code",
      "execution_count": 6,
      "metadata": {
        "id": "7sYtlTt9_3tK",
        "outputId": "aaba03ca-b3f8-46d9-b0f0-e48d7106e560",
        "colab": {
          "base_uri": "https://localhost:8080/"
        }
      },
      "outputs": [
        {
          "output_type": "stream",
          "name": "stdout",
          "text": [
            "Epoch 1/10\n",
            "375/375 [==============================] - 5s 13ms/step - loss: 0.3553 - accuracy: 0.9129 - val_loss: 0.1904 - val_accuracy: 0.9489\n",
            "Epoch 2/10\n",
            "375/375 [==============================] - 5s 12ms/step - loss: 0.1420 - accuracy: 0.9646 - val_loss: 0.1436 - val_accuracy: 0.9654\n",
            "Epoch 3/10\n",
            "375/375 [==============================] - 5s 12ms/step - loss: 0.1162 - accuracy: 0.9730 - val_loss: 0.1445 - val_accuracy: 0.9709\n",
            "Epoch 4/10\n",
            "375/375 [==============================] - 4s 12ms/step - loss: 0.0952 - accuracy: 0.9795 - val_loss: 0.1891 - val_accuracy: 0.9709\n",
            "Epoch 5/10\n",
            "375/375 [==============================] - 5s 13ms/step - loss: 0.0954 - accuracy: 0.9812 - val_loss: 0.2222 - val_accuracy: 0.9684\n",
            "Epoch 6/10\n",
            "375/375 [==============================] - 5s 13ms/step - loss: 0.0785 - accuracy: 0.9840 - val_loss: 0.3138 - val_accuracy: 0.9674\n",
            "Epoch 7/10\n",
            "375/375 [==============================] - 5s 12ms/step - loss: 0.0755 - accuracy: 0.9862 - val_loss: 0.3005 - val_accuracy: 0.9679\n",
            "Epoch 8/10\n",
            "375/375 [==============================] - 5s 13ms/step - loss: 0.0676 - accuracy: 0.9884 - val_loss: 0.2731 - val_accuracy: 0.9729\n",
            "Epoch 9/10\n",
            "375/375 [==============================] - 5s 12ms/step - loss: 0.0646 - accuracy: 0.9891 - val_loss: 0.2692 - val_accuracy: 0.9722\n",
            "Epoch 10/10\n",
            "375/375 [==============================] - 5s 13ms/step - loss: 0.0553 - accuracy: 0.9908 - val_loss: 0.3932 - val_accuracy: 0.9639\n"
          ]
        },
        {
          "output_type": "execute_result",
          "data": {
            "text/plain": [
              "<keras.callbacks.History at 0x7fdee8593910>"
            ]
          },
          "metadata": {},
          "execution_count": 6
        }
      ],
      "source": [
        "model = keras.Sequential([\n",
        "    layers.Dense(512, activation=\"relu\"),\n",
        "    layers.Dense(10, activation=\"softmax\")\n",
        "])\n",
        "model.compile(optimizer=keras.optimizers.RMSprop(1e-2),\n",
        "              loss=\"sparse_categorical_crossentropy\",\n",
        "              metrics=[\"accuracy\"])\n",
        "model.fit(train_images, train_labels,\n",
        "          epochs=10,\n",
        "          batch_size=128,\n",
        "          validation_split=0.2)"
      ]
    },
    {
      "cell_type": "markdown",
      "metadata": {
        "id": "hOiC3BfD_3tL"
      },
      "source": [
        "### Leveraging better architecture priors"
      ]
    },
    {
      "cell_type": "markdown",
      "metadata": {
        "id": "oBRMCamV_3tL"
      },
      "source": [
        "### Increasing model capacity"
      ]
    },
    {
      "cell_type": "markdown",
      "metadata": {
        "id": "Y8rwff8q_3tL"
      },
      "source": [
        "**A simple logistic regression on MNIST**"
      ]
    },
    {
      "cell_type": "code",
      "execution_count": 7,
      "metadata": {
        "id": "63XPgTLe_3tL",
        "outputId": "6e3183e0-98c5-45f4-a0db-b02af66f26fe",
        "colab": {
          "base_uri": "https://localhost:8080/"
        }
      },
      "outputs": [
        {
          "output_type": "stream",
          "name": "stdout",
          "text": [
            "Epoch 1/20\n",
            "375/375 [==============================] - 2s 4ms/step - loss: 0.6613 - accuracy: 0.8370 - val_loss: 0.3554 - val_accuracy: 0.9034\n",
            "Epoch 2/20\n",
            "375/375 [==============================] - 1s 3ms/step - loss: 0.3509 - accuracy: 0.9033 - val_loss: 0.3085 - val_accuracy: 0.9137\n",
            "Epoch 3/20\n",
            "375/375 [==============================] - 1s 3ms/step - loss: 0.3160 - accuracy: 0.9123 - val_loss: 0.2903 - val_accuracy: 0.9193\n",
            "Epoch 4/20\n",
            "375/375 [==============================] - 1s 3ms/step - loss: 0.2996 - accuracy: 0.9160 - val_loss: 0.2798 - val_accuracy: 0.9231\n",
            "Epoch 5/20\n",
            "375/375 [==============================] - 1s 3ms/step - loss: 0.2899 - accuracy: 0.9194 - val_loss: 0.2768 - val_accuracy: 0.9235\n",
            "Epoch 6/20\n",
            "375/375 [==============================] - 1s 3ms/step - loss: 0.2832 - accuracy: 0.9209 - val_loss: 0.2697 - val_accuracy: 0.9266\n",
            "Epoch 7/20\n",
            "375/375 [==============================] - 1s 3ms/step - loss: 0.2786 - accuracy: 0.9224 - val_loss: 0.2690 - val_accuracy: 0.9258\n",
            "Epoch 8/20\n",
            "375/375 [==============================] - 1s 4ms/step - loss: 0.2743 - accuracy: 0.9238 - val_loss: 0.2661 - val_accuracy: 0.9262\n",
            "Epoch 9/20\n",
            "375/375 [==============================] - 1s 3ms/step - loss: 0.2712 - accuracy: 0.9251 - val_loss: 0.2678 - val_accuracy: 0.9270\n",
            "Epoch 10/20\n",
            "375/375 [==============================] - 1s 3ms/step - loss: 0.2688 - accuracy: 0.9255 - val_loss: 0.2636 - val_accuracy: 0.9291\n",
            "Epoch 11/20\n",
            "375/375 [==============================] - 1s 3ms/step - loss: 0.2666 - accuracy: 0.9263 - val_loss: 0.2655 - val_accuracy: 0.9283\n",
            "Epoch 12/20\n",
            "375/375 [==============================] - 1s 4ms/step - loss: 0.2650 - accuracy: 0.9269 - val_loss: 0.2639 - val_accuracy: 0.9278\n",
            "Epoch 13/20\n",
            "375/375 [==============================] - 1s 3ms/step - loss: 0.2631 - accuracy: 0.9273 - val_loss: 0.2625 - val_accuracy: 0.9298\n",
            "Epoch 14/20\n",
            "375/375 [==============================] - 1s 3ms/step - loss: 0.2617 - accuracy: 0.9284 - val_loss: 0.2617 - val_accuracy: 0.9313\n",
            "Epoch 15/20\n",
            "375/375 [==============================] - 1s 3ms/step - loss: 0.2604 - accuracy: 0.9283 - val_loss: 0.2629 - val_accuracy: 0.9299\n",
            "Epoch 16/20\n",
            "375/375 [==============================] - 1s 3ms/step - loss: 0.2594 - accuracy: 0.9287 - val_loss: 0.2614 - val_accuracy: 0.9303\n",
            "Epoch 17/20\n",
            "375/375 [==============================] - 1s 3ms/step - loss: 0.2586 - accuracy: 0.9294 - val_loss: 0.2602 - val_accuracy: 0.9302\n",
            "Epoch 18/20\n",
            "375/375 [==============================] - 1s 3ms/step - loss: 0.2572 - accuracy: 0.9299 - val_loss: 0.2601 - val_accuracy: 0.9309\n",
            "Epoch 19/20\n",
            "375/375 [==============================] - 1s 3ms/step - loss: 0.2562 - accuracy: 0.9301 - val_loss: 0.2599 - val_accuracy: 0.9307\n",
            "Epoch 20/20\n",
            "375/375 [==============================] - 1s 3ms/step - loss: 0.2557 - accuracy: 0.9302 - val_loss: 0.2605 - val_accuracy: 0.9315\n"
          ]
        }
      ],
      "source": [
        "model = keras.Sequential([layers.Dense(10, activation=\"softmax\")])\n",
        "model.compile(optimizer=\"rmsprop\",\n",
        "              loss=\"sparse_categorical_crossentropy\",\n",
        "              metrics=[\"accuracy\"])\n",
        "history_small_model = model.fit(\n",
        "    train_images, train_labels,\n",
        "    epochs=20,\n",
        "    batch_size=128,\n",
        "    validation_split=0.2)"
      ]
    },
    {
      "cell_type": "code",
      "execution_count": 8,
      "metadata": {
        "id": "2amW-XvP_3tM",
        "outputId": "b1768a67-7564-4ca5-ac28-cfd69660717e",
        "colab": {
          "base_uri": "https://localhost:8080/",
          "height": 312
        }
      },
      "outputs": [
        {
          "output_type": "execute_result",
          "data": {
            "text/plain": [
              "<matplotlib.legend.Legend at 0x7fdee41b2590>"
            ]
          },
          "metadata": {},
          "execution_count": 8
        },
        {
          "output_type": "display_data",
          "data": {
            "text/plain": [
              "<Figure size 432x288 with 1 Axes>"
            ],
            "image/png": "[encoded data removed]"
          },
          "metadata": {
            "needs_background": "light"
          }
        }
      ],
      "source": [
        "import matplotlib.pyplot as plt\n",
        "val_loss = history_small_model.history[\"val_loss\"]\n",
        "epochs = range(1, 21)\n",
        "plt.plot(epochs, val_loss, \"b--\",\n",
        "         label=\"Validation loss\")\n",
        "plt.title(\"Effect of insufficient model capacity on validation loss\")\n",
        "plt.xlabel(\"Epochs\")\n",
        "plt.ylabel(\"Loss\")\n",
        "plt.legend()"
      ]
    },
    {
      "cell_type": "code",
      "execution_count": 9,
      "metadata": {
        "id": "Kdi-LPNw_3tM",
        "outputId": "327c582d-5ab6-471c-f7ca-175cc6511f14",
        "colab": {
          "base_uri": "https://localhost:8080/"
        }
      },
      "outputs": [
        {
          "output_type": "stream",
          "name": "stdout",
          "text": [
            "Epoch 1/20\n",
            "375/375 [==============================] - 3s 7ms/step - loss: 0.3633 - accuracy: 0.8972 - val_loss: 0.2082 - val_accuracy: 0.9404\n",
            "Epoch 2/20\n",
            "375/375 [==============================] - 2s 6ms/step - loss: 0.1615 - accuracy: 0.9516 - val_loss: 0.1360 - val_accuracy: 0.9592\n",
            "Epoch 3/20\n",
            "375/375 [==============================] - 2s 6ms/step - loss: 0.1129 - accuracy: 0.9663 - val_loss: 0.1116 - val_accuracy: 0.9673\n",
            "Epoch 4/20\n",
            "375/375 [==============================] - 2s 6ms/step - loss: 0.0876 - accuracy: 0.9725 - val_loss: 0.1022 - val_accuracy: 0.9691\n",
            "Epoch 5/20\n",
            "375/375 [==============================] - 2s 6ms/step - loss: 0.0694 - accuracy: 0.9788 - val_loss: 0.1010 - val_accuracy: 0.9727\n",
            "Epoch 6/20\n",
            "375/375 [==============================] - 2s 6ms/step - loss: 0.0575 - accuracy: 0.9834 - val_loss: 0.0923 - val_accuracy: 0.9734\n",
            "Epoch 7/20\n",
            "375/375 [==============================] - 2s 6ms/step - loss: 0.0474 - accuracy: 0.9854 - val_loss: 0.0936 - val_accuracy: 0.9737\n",
            "Epoch 8/20\n",
            "375/375 [==============================] - 2s 6ms/step - loss: 0.0398 - accuracy: 0.9878 - val_loss: 0.0922 - val_accuracy: 0.9733\n",
            "Epoch 9/20\n",
            "375/375 [==============================] - 2s 6ms/step - loss: 0.0339 - accuracy: 0.9901 - val_loss: 0.0884 - val_accuracy: 0.9759\n",
            "Epoch 10/20\n",
            "375/375 [==============================] - 2s 5ms/step - loss: 0.0280 - accuracy: 0.9917 - val_loss: 0.1024 - val_accuracy: 0.9722\n",
            "Epoch 11/20\n",
            "375/375 [==============================] - 2s 6ms/step - loss: 0.0238 - accuracy: 0.9928 - val_loss: 0.1140 - val_accuracy: 0.9732\n",
            "Epoch 12/20\n",
            "375/375 [==============================] - 2s 6ms/step - loss: 0.0201 - accuracy: 0.9937 - val_loss: 0.1070 - val_accuracy: 0.9759\n",
            "Epoch 13/20\n",
            "375/375 [==============================] - 2s 7ms/step - loss: 0.0172 - accuracy: 0.9947 - val_loss: 0.1128 - val_accuracy: 0.9745\n",
            "Epoch 14/20\n",
            "375/375 [==============================] - 2s 6ms/step - loss: 0.0151 - accuracy: 0.9952 - val_loss: 0.1093 - val_accuracy: 0.9765\n",
            "Epoch 15/20\n",
            "375/375 [==============================] - 2s 6ms/step - loss: 0.0128 - accuracy: 0.9959 - val_loss: 0.1109 - val_accuracy: 0.9761\n",
            "Epoch 16/20\n",
            "375/375 [==============================] - 2s 6ms/step - loss: 0.0112 - accuracy: 0.9968 - val_loss: 0.1161 - val_accuracy: 0.9769\n",
            "Epoch 17/20\n",
            "375/375 [==============================] - 2s 7ms/step - loss: 0.0096 - accuracy: 0.9972 - val_loss: 0.1180 - val_accuracy: 0.9766\n",
            "Epoch 18/20\n",
            "375/375 [==============================] - 2s 6ms/step - loss: 0.0076 - accuracy: 0.9976 - val_loss: 0.1225 - val_accuracy: 0.9763\n",
            "Epoch 19/20\n",
            "375/375 [==============================] - 2s 7ms/step - loss: 0.0072 - accuracy: 0.9976 - val_loss: 0.1429 - val_accuracy: 0.9743\n",
            "Epoch 20/20\n",
            "375/375 [==============================] - 2s 7ms/step - loss: 0.0058 - accuracy: 0.9982 - val_loss: 0.1342 - val_accuracy: 0.9772\n"
          ]
        }
      ],
      "source": [
        "model = keras.Sequential([\n",
        "    layers.Dense(96, activation=\"relu\"),\n",
        "    layers.Dense(96, activation=\"relu\"),\n",
        "    layers.Dense(10, activation=\"softmax\"),\n",
        "])\n",
        "model.compile(optimizer=\"rmsprop\",\n",
        "              loss=\"sparse_categorical_crossentropy\",\n",
        "              metrics=[\"accuracy\"])\n",
        "history_large_model = model.fit(\n",
        "    train_images, train_labels,\n",
        "    epochs=20,\n",
        "    batch_size=128,\n",
        "    validation_split=0.2)"
      ]
    },
    {
      "cell_type": "markdown",
      "metadata": {
        "id": "KFinR5DC_3tM"
      },
      "source": [
        "## Improving generalization"
      ]
    },
    {
      "cell_type": "markdown",
      "metadata": {
        "id": "-w8Up8Dg_3tM"
      },
      "source": [
        "### Dataset curation"
      ]
    },
    {
      "cell_type": "markdown",
      "metadata": {
        "id": "i_kD046t_3tM"
      },
      "source": [
        "### Feature engineering"
      ]
    },
    {
      "cell_type": "markdown",
      "metadata": {
        "id": "cJY9K8PU_3tM"
      },
      "source": [
        "### Using early stopping"
      ]
    },
    {
      "cell_type": "markdown",
      "metadata": {
        "id": "1XRC_gU4_3tN"
      },
      "source": [
        "### Regularizing your model"
      ]
    },
    {
      "cell_type": "markdown",
      "metadata": {
        "id": "yhPZDkad_3tN"
      },
      "source": [
        "#### Reducing the network's size"
      ]
    },
    {
      "cell_type": "markdown",
      "metadata": {
        "id": "9ztgd5vS_3tN"
      },
      "source": [
        "**Original model**"
      ]
    },
    {
      "cell_type": "code",
      "execution_count": 10,
      "metadata": {
        "id": "5l-0yNe7_3tN",
        "outputId": "2e2ebf50-4b62-4a5f-d4c8-91dc5956359b",
        "colab": {
          "base_uri": "https://localhost:8080/"
        }
      },
      "outputs": [
        {
          "output_type": "stream",
          "name": "stdout",
          "text": [
            "Downloading data from https://storage.googleapis.com/tensorflow/tf-keras-datasets/imdb.npz\n",
            "17464789/17464789 [==============================] - 0s 0us/step\n",
            "Epoch 1/20\n",
            "30/30 [==============================] - 3s 72ms/step - loss: 0.5114 - accuracy: 0.7917 - val_loss: 0.3873 - val_accuracy: 0.8656\n",
            "Epoch 2/20\n",
            "30/30 [==============================] - 1s 37ms/step - loss: 0.3083 - accuracy: 0.9020 - val_loss: 0.3421 - val_accuracy: 0.8592\n",
            "Epoch 3/20\n",
            "30/30 [==============================] - 1s 44ms/step - loss: 0.2280 - accuracy: 0.9279 - val_loss: 0.2800 - val_accuracy: 0.8931\n",
            "Epoch 4/20\n",
            "30/30 [==============================] - 1s 48ms/step - loss: 0.1803 - accuracy: 0.9421 - val_loss: 0.2878 - val_accuracy: 0.8857\n",
            "Epoch 5/20\n",
            "30/30 [==============================] - 2s 58ms/step - loss: 0.1484 - accuracy: 0.9522 - val_loss: 0.2812 - val_accuracy: 0.8898\n",
            "Epoch 6/20\n",
            "30/30 [==============================] - 1s 40ms/step - loss: 0.1234 - accuracy: 0.9612 - val_loss: 0.3021 - val_accuracy: 0.8827\n",
            "Epoch 7/20\n",
            "30/30 [==============================] - 1s 41ms/step - loss: 0.0992 - accuracy: 0.9707 - val_loss: 0.3251 - val_accuracy: 0.8798\n",
            "Epoch 8/20\n",
            "30/30 [==============================] - 1s 47ms/step - loss: 0.0832 - accuracy: 0.9768 - val_loss: 0.3286 - val_accuracy: 0.8828\n",
            "Epoch 9/20\n",
            "30/30 [==============================] - 1s 48ms/step - loss: 0.0655 - accuracy: 0.9833 - val_loss: 0.3494 - val_accuracy: 0.8813\n",
            "Epoch 10/20\n",
            "30/30 [==============================] - 1s 48ms/step - loss: 0.0552 - accuracy: 0.9859 - val_loss: 0.3780 - val_accuracy: 0.8791\n",
            "Epoch 11/20\n",
            "30/30 [==============================] - 1s 48ms/step - loss: 0.0446 - accuracy: 0.9887 - val_loss: 0.4383 - val_accuracy: 0.8703\n",
            "Epoch 12/20\n",
            "30/30 [==============================] - 1s 39ms/step - loss: 0.0369 - accuracy: 0.9906 - val_loss: 0.4314 - val_accuracy: 0.8754\n",
            "Epoch 13/20\n",
            "30/30 [==============================] - 1s 45ms/step - loss: 0.0264 - accuracy: 0.9957 - val_loss: 0.4866 - val_accuracy: 0.8681\n",
            "Epoch 14/20\n",
            "30/30 [==============================] - 1s 44ms/step - loss: 0.0225 - accuracy: 0.9965 - val_loss: 0.5002 - val_accuracy: 0.8691\n",
            "Epoch 15/20\n",
            "30/30 [==============================] - 1s 41ms/step - loss: 0.0163 - accuracy: 0.9977 - val_loss: 0.5344 - val_accuracy: 0.8724\n",
            "Epoch 16/20\n",
            "30/30 [==============================] - 1s 40ms/step - loss: 0.0120 - accuracy: 0.9987 - val_loss: 0.5875 - val_accuracy: 0.8646\n",
            "Epoch 17/20\n",
            "30/30 [==============================] - 1s 49ms/step - loss: 0.0115 - accuracy: 0.9981 - val_loss: 0.6119 - val_accuracy: 0.8713\n",
            "Epoch 18/20\n",
            "30/30 [==============================] - 1s 41ms/step - loss: 0.0055 - accuracy: 0.9995 - val_loss: 0.6463 - val_accuracy: 0.8681\n",
            "Epoch 19/20\n",
            "30/30 [==============================] - 1s 38ms/step - loss: 0.0074 - accuracy: 0.9988 - val_loss: 0.6800 - val_accuracy: 0.8680\n",
            "Epoch 20/20\n",
            "30/30 [==============================] - 1s 45ms/step - loss: 0.0031 - accuracy: 0.9999 - val_loss: 0.7169 - val_accuracy: 0.8660\n"
          ]
        }
      ],
      "source": [
        "from tensorflow.keras.datasets import imdb\n",
        "(train_data, train_labels), _ = imdb.load_data(num_words=10000)\n",
        "\n",
        "def vectorize_sequences(sequences, dimension=10000):\n",
        "    results = np.zeros((len(sequences), dimension))\n",
        "    for i, sequence in enumerate(sequences):\n",
        "        results[i, sequence] = 1.\n",
        "    return results\n",
        "train_data = vectorize_sequences(train_data)\n",
        "\n",
        "model = keras.Sequential([\n",
        "    layers.Dense(16, activation=\"relu\"),\n",
        "    layers.Dense(16, activation=\"relu\"),\n",
        "    layers.Dense(1, activation=\"sigmoid\")\n",
        "])\n",
        "model.compile(optimizer=\"rmsprop\",\n",
        "              loss=\"binary_crossentropy\",\n",
        "              metrics=[\"accuracy\"])\n",
        "history_original = model.fit(train_data, train_labels,\n",
        "                             epochs=20, batch_size=512, validation_split=0.4)"
      ]
    },
    {
      "cell_type": "markdown",
      "metadata": {
        "id": "4A15o290_3tN"
      },
      "source": [
        "**Version of the model with lower capacity**"
      ]
    },
    {
      "cell_type": "code",
      "execution_count": 11,
      "metadata": {
        "id": "i5zXPdK6_3tN",
        "outputId": "456f354a-7598-4a06-a675-e835cffeae4c",
        "colab": {
          "base_uri": "https://localhost:8080/"
        }
      },
      "outputs": [
        {
          "metadata": {
            "tags": null
          },
          "name": "stdout",
          "output_type": "stream",
          "text": [
            "Epoch 1/20\n",
            "30/30 [==============================] - 3s 62ms/step - loss: 0.6122 - accuracy: 0.7548 - val_loss: 0.5335 - val_accuracy: 0.8297\n",
            "Epoch 2/20\n",
            "30/30 [==============================] - 1s 37ms/step - loss: 0.4671 - accuracy: 0.8775 - val_loss: 0.4406 - val_accuracy: 0.8489\n",
            "Epoch 3/20\n",
            "30/30 [==============================] - 1s 42ms/step - loss: 0.3735 - accuracy: 0.8981 - val_loss: 0.3690 - val_accuracy: 0.8793\n",
            "Epoch 4/20\n",
            "30/30 [==============================] - 1s 42ms/step - loss: 0.3071 - accuracy: 0.9114 - val_loss: 0.3272 - val_accuracy: 0.8839\n",
            "Epoch 5/20\n",
            "30/30 [==============================] - 1s 34ms/step - loss: 0.2602 - accuracy: 0.9219 - val_loss: 0.3031 - val_accuracy: 0.8866\n",
            "Epoch 6/20\n",
            "30/30 [==============================] - 1s 35ms/step - loss: 0.2248 - accuracy: 0.9329 - val_loss: 0.2860 - val_accuracy: 0.8891\n",
            "Epoch 7/20\n",
            "30/30 [==============================] - 2s 64ms/step - loss: 0.1969 - accuracy: 0.9404 - val_loss: 0.2768 - val_accuracy: 0.8909\n",
            "Epoch 8/20\n",
            "30/30 [==============================] - 1s 49ms/step - loss: 0.1745 - accuracy: 0.9462 - val_loss: 0.2727 - val_accuracy: 0.8935\n",
            "Epoch 9/20\n",
            "30/30 [==============================] - 1s 39ms/step - loss: 0.1562 - accuracy: 0.9538 - val_loss: 0.2757 - val_accuracy: 0.8881\n",
            "Epoch 10/20\n",
            "30/30 [==============================] - 1s 36ms/step - loss: 0.1397 - accuracy: 0.9586 - val_loss: 0.2748 - val_accuracy: 0.8920\n",
            "Epoch 11/20\n",
            "30/30 [==============================] - 1s 35ms/step - loss: 0.1259 - accuracy: 0.9633 - val_loss: 0.2800 - val_accuracy: 0.8908\n",
            "Epoch 12/20\n",
            "30/30 [==============================] - 1s 33ms/step - loss: 0.1134 - accuracy: 0.9680 - val_loss: 0.2981 - val_accuracy: 0.8856\n",
            "Epoch 13/20\n",
            "30/30 [==============================] - 1s 37ms/step - loss: 0.1033 - accuracy: 0.9719 - val_loss: 0.2938 - val_accuracy: 0.8882\n",
            "Epoch 14/20\n",
            "30/30 [==============================] - 1s 33ms/step - loss: 0.0937 - accuracy: 0.9736 - val_loss: 0.3033 - val_accuracy: 0.8862\n",
            "Epoch 15/20\n",
            "30/30 [==============================] - 1s 42ms/step - loss: 0.0853 - accuracy: 0.9764 - val_loss: 0.3136 - val_accuracy: 0.8851\n",
            "Epoch 16/20\n",
            "30/30 [==============================] - 1s 37ms/step - loss: 0.0777 - accuracy: 0.9798 - val_loss: 0.3253 - val_accuracy: 0.8837\n",
            "Epoch 17/20\n",
            "30/30 [==============================] - 1s 34ms/step - loss: 0.0704 - accuracy: 0.9815 - val_loss: 0.3407 - val_accuracy: 0.8806\n",
            "Epoch 18/20\n",
            "30/30 [==============================] - 1s 33ms/step - loss: 0.0637 - accuracy: 0.9847 - val_loss: 0.3566 - val_accuracy: 0.8790\n",
            "Epoch 19/20\n",
            "30/30 [==============================] - 1s 33ms/step - loss: 0.0585 - accuracy: 0.9867 - val_loss: 0.3629 - val_accuracy: 0.8806\n",
            "Epoch 20/20\n",
            "30/30 [==============================] - 1s 40ms/step - loss: 0.0527 - accuracy: 0.9881 - val_loss: 0.3818 - val_accuracy: 0.8789\n"
          ]
        }
      ],
      "source": [
        "model = keras.Sequential([\n",
        "    layers.Dense(4, activation=\"relu\"),\n",
        "    layers.Dense(4, activation=\"relu\"),\n",
        "    layers.Dense(1, activation=\"sigmoid\")\n",
        "])\n",
        "model.compile(optimizer=\"rmsprop\",\n",
        "              loss=\"binary_crossentropy\",\n",
        "              metrics=[\"accuracy\"])\n",
        "history_smaller_model = model.fit(\n",
        "    train_data, train_labels,\n",
        "    epochs=20, batch_size=512, validation_split=0.4)"
      ]
    },
    {
      "cell_type": "markdown",
      "metadata": {
        "id": "mqd_wnIg_3tO"
      },
      "source": [
        "**Version of the model with higher capacity**"
      ]
    },
    {
      "cell_type": "code",
      "execution_count": 12,
      "metadata": {
        "id": "GY65Ah-8_3tO",
        "outputId": "80920d83-f9f6-4f53-c5c5-6cefd85a5daf",
        "colab": {
          "base_uri": "https://localhost:8080/"
        }
      },
      "outputs": [
        {
          "output_type": "stream",
          "name": "stdout",
          "text": [
            "Epoch 1/20\n",
            "30/30 [==============================] - 11s 329ms/step - loss: 0.5281 - accuracy: 0.7579 - val_loss: 0.3779 - val_accuracy: 0.8457\n",
            "Epoch 2/20\n",
            "30/30 [==============================] - 9s 318ms/step - loss: 0.2500 - accuracy: 0.9017 - val_loss: 0.2882 - val_accuracy: 0.8740\n",
            "Epoch 3/20\n",
            "30/30 [==============================] - 9s 316ms/step - loss: 0.1386 - accuracy: 0.9487 - val_loss: 0.3409 - val_accuracy: 0.8784\n",
            "Epoch 4/20\n",
            "30/30 [==============================] - 9s 319ms/step - loss: 0.0687 - accuracy: 0.9762 - val_loss: 0.4110 - val_accuracy: 0.8875\n",
            "Epoch 5/20\n",
            "30/30 [==============================] - 9s 313ms/step - loss: 0.1107 - accuracy: 0.9771 - val_loss: 0.3879 - val_accuracy: 0.8879\n",
            "Epoch 6/20\n",
            "30/30 [==============================] - 9s 305ms/step - loss: 0.0046 - accuracy: 0.9994 - val_loss: 0.5579 - val_accuracy: 0.8870\n",
            "Epoch 7/20\n",
            "30/30 [==============================] - 9s 314ms/step - loss: 6.0101e-04 - accuracy: 1.0000 - val_loss: 0.6811 - val_accuracy: 0.8863\n",
            "Epoch 8/20\n",
            "30/30 [==============================] - 10s 322ms/step - loss: 0.1541 - accuracy: 0.9860 - val_loss: 0.5660 - val_accuracy: 0.8842\n",
            "Epoch 9/20\n",
            "30/30 [==============================] - 9s 306ms/step - loss: 5.5485e-04 - accuracy: 0.9999 - val_loss: 0.6243 - val_accuracy: 0.8867\n",
            "Epoch 10/20\n",
            "30/30 [==============================] - 9s 313ms/step - loss: 1.4439e-04 - accuracy: 1.0000 - val_loss: 0.6789 - val_accuracy: 0.8866\n",
            "Epoch 11/20\n",
            "30/30 [==============================] - 10s 320ms/step - loss: 5.5116e-05 - accuracy: 1.0000 - val_loss: 0.7580 - val_accuracy: 0.8848\n",
            "Epoch 12/20\n",
            "30/30 [==============================] - 9s 314ms/step - loss: 1.8395e-05 - accuracy: 1.0000 - val_loss: 0.8350 - val_accuracy: 0.8853\n",
            "Epoch 13/20\n",
            "30/30 [==============================] - 9s 308ms/step - loss: 5.9107e-06 - accuracy: 1.0000 - val_loss: 0.9179 - val_accuracy: 0.8857\n",
            "Epoch 14/20\n",
            "30/30 [==============================] - 9s 317ms/step - loss: 1.9232e-06 - accuracy: 1.0000 - val_loss: 0.9973 - val_accuracy: 0.8855\n",
            "Epoch 15/20\n",
            "30/30 [==============================] - 9s 318ms/step - loss: 6.8619e-07 - accuracy: 1.0000 - val_loss: 1.0701 - val_accuracy: 0.8863\n",
            "Epoch 16/20\n",
            "30/30 [==============================] - 10s 322ms/step - loss: 2.5126e-07 - accuracy: 1.0000 - val_loss: 1.1449 - val_accuracy: 0.8861\n",
            "Epoch 17/20\n",
            "30/30 [==============================] - 9s 318ms/step - loss: 9.6155e-08 - accuracy: 1.0000 - val_loss: 1.2125 - val_accuracy: 0.8860\n",
            "Epoch 18/20\n",
            "30/30 [==============================] - 9s 310ms/step - loss: 4.3854e-08 - accuracy: 1.0000 - val_loss: 1.2644 - val_accuracy: 0.8856\n",
            "Epoch 19/20\n",
            "30/30 [==============================] - 9s 318ms/step - loss: 2.5251e-08 - accuracy: 1.0000 - val_loss: 1.2926 - val_accuracy: 0.8856\n",
            "Epoch 20/20\n",
            "30/30 [==============================] - 9s 315ms/step - loss: 1.7405e-08 - accuracy: 1.0000 - val_loss: 1.3157 - val_accuracy: 0.8857\n"
          ]
        }
      ],
      "source": [
        "model = keras.Sequential([\n",
        "    layers.Dense(512, activation=\"relu\"),\n",
        "    layers.Dense(512, activation=\"relu\"),\n",
        "    layers.Dense(1, activation=\"sigmoid\")\n",
        "])\n",
        "model.compile(optimizer=\"rmsprop\",\n",
        "              loss=\"binary_crossentropy\",\n",
        "              metrics=[\"accuracy\"])\n",
        "history_larger_model = model.fit(\n",
        "    train_data, train_labels,\n",
        "    epochs=20, batch_size=512, validation_split=0.4)"
      ]
    },
    {
      "cell_type": "markdown",
      "metadata": {
        "id": "rit2eFHl_3tO"
      },
      "source": [
        "#### Adding weight regularization"
      ]
    },
    {
      "cell_type": "markdown",
      "metadata": {
        "id": "t2GlZP4Y_3tO"
      },
      "source": [
        "**Adding L2 weight regularization to the model**"
      ]
    },
    {
      "cell_type": "code",
      "execution_count": 13,
      "metadata": {
        "id": "OsbwCQpv_3tO",
        "outputId": "3a7bbb9f-cdd1-499d-9987-6fad75937e7d",
        "colab": {
          "base_uri": "https://localhost:8080/"
        }
      },
      "outputs": [
        {
          "output_type": "stream",
          "name": "stdout",
          "text": [
            "Epoch 1/20\n",
            "30/30 [==============================] - 3s 62ms/step - loss: 0.5983 - accuracy: 0.7747 - val_loss: 0.4730 - val_accuracy: 0.8757\n",
            "Epoch 2/20\n",
            "30/30 [==============================] - 1s 42ms/step - loss: 0.4080 - accuracy: 0.8926 - val_loss: 0.4055 - val_accuracy: 0.8849\n",
            "Epoch 3/20\n",
            "30/30 [==============================] - 2s 51ms/step - loss: 0.3397 - accuracy: 0.9143 - val_loss: 0.3913 - val_accuracy: 0.8782\n",
            "Epoch 4/20\n",
            "30/30 [==============================] - 1s 50ms/step - loss: 0.3092 - accuracy: 0.9237 - val_loss: 0.3673 - val_accuracy: 0.8880\n",
            "Epoch 5/20\n",
            "30/30 [==============================] - 2s 51ms/step - loss: 0.2853 - accuracy: 0.9315 - val_loss: 0.4246 - val_accuracy: 0.8531\n",
            "Epoch 6/20\n",
            "30/30 [==============================] - 1s 50ms/step - loss: 0.2755 - accuracy: 0.9346 - val_loss: 0.3571 - val_accuracy: 0.8885\n",
            "Epoch 7/20\n",
            "30/30 [==============================] - 1s 50ms/step - loss: 0.2600 - accuracy: 0.9408 - val_loss: 0.3794 - val_accuracy: 0.8760\n",
            "Epoch 8/20\n",
            "30/30 [==============================] - 1s 50ms/step - loss: 0.2554 - accuracy: 0.9421 - val_loss: 0.4216 - val_accuracy: 0.8622\n",
            "Epoch 9/20\n",
            "30/30 [==============================] - 2s 61ms/step - loss: 0.2449 - accuracy: 0.9441 - val_loss: 0.3737 - val_accuracy: 0.8818\n",
            "Epoch 10/20\n",
            "30/30 [==============================] - 1s 50ms/step - loss: 0.2395 - accuracy: 0.9464 - val_loss: 0.3726 - val_accuracy: 0.8824\n",
            "Epoch 11/20\n",
            "30/30 [==============================] - 1s 45ms/step - loss: 0.2351 - accuracy: 0.9472 - val_loss: 0.3895 - val_accuracy: 0.8780\n",
            "Epoch 12/20\n",
            "30/30 [==============================] - 1s 47ms/step - loss: 0.2288 - accuracy: 0.9515 - val_loss: 0.3935 - val_accuracy: 0.8764\n",
            "Epoch 13/20\n",
            "30/30 [==============================] - 1s 50ms/step - loss: 0.2327 - accuracy: 0.9473 - val_loss: 0.3802 - val_accuracy: 0.8814\n",
            "Epoch 14/20\n",
            "30/30 [==============================] - 1s 44ms/step - loss: 0.2174 - accuracy: 0.9547 - val_loss: 0.3964 - val_accuracy: 0.8765\n",
            "Epoch 15/20\n",
            "30/30 [==============================] - 1s 39ms/step - loss: 0.2187 - accuracy: 0.9531 - val_loss: 0.4377 - val_accuracy: 0.8636\n",
            "Epoch 16/20\n",
            "30/30 [==============================] - 1s 39ms/step - loss: 0.2158 - accuracy: 0.9548 - val_loss: 0.4728 - val_accuracy: 0.8536\n",
            "Epoch 17/20\n",
            "30/30 [==============================] - 1s 39ms/step - loss: 0.2101 - accuracy: 0.9565 - val_loss: 0.4260 - val_accuracy: 0.8696\n",
            "Epoch 18/20\n",
            "30/30 [==============================] - 1s 39ms/step - loss: 0.2108 - accuracy: 0.9557 - val_loss: 0.4180 - val_accuracy: 0.8726\n",
            "Epoch 19/20\n",
            "30/30 [==============================] - 1s 45ms/step - loss: 0.2069 - accuracy: 0.9575 - val_loss: 0.4044 - val_accuracy: 0.8754\n",
            "Epoch 20/20\n",
            "30/30 [==============================] - 1s 41ms/step - loss: 0.2090 - accuracy: 0.9563 - val_loss: 0.4063 - val_accuracy: 0.8767\n"
          ]
        }
      ],
      "source": [
        "from tensorflow.keras import regularizers\n",
        "model = keras.Sequential([\n",
        "    layers.Dense(16,\n",
        "                 kernel_regularizer=regularizers.l2(0.002),\n",
        "                 activation=\"relu\"),\n",
        "    layers.Dense(16,\n",
        "                 kernel_regularizer=regularizers.l2(0.002),\n",
        "                 activation=\"relu\"),\n",
        "    layers.Dense(1, activation=\"sigmoid\")\n",
        "])\n",
        "model.compile(optimizer=\"rmsprop\",\n",
        "              loss=\"binary_crossentropy\",\n",
        "              metrics=[\"accuracy\"])\n",
        "history_l2_reg = model.fit(\n",
        "    train_data, train_labels,\n",
        "    epochs=20, batch_size=512, validation_split=0.4)"
      ]
    },
    {
      "cell_type": "markdown",
      "metadata": {
        "id": "sMHuPg9J_3tO"
      },
      "source": [
        "**Different weight regularizers available in Keras**"
      ]
    },
    {
      "cell_type": "code",
      "execution_count": 14,
      "metadata": {
        "id": "YkCYGrbQ_3tO",
        "outputId": "f3671a2a-6696-4af6-87b4-377721802b3d",
        "colab": {
          "base_uri": "https://localhost:8080/"
        }
      },
      "outputs": [
        {
          "output_type": "execute_result",
          "data": {
            "text/plain": [
              "<keras.regularizers.L1L2 at 0x7fdee4179790>"
            ]
          },
          "metadata": {},
          "execution_count": 14
        }
      ],
      "source": [
        "from tensorflow.keras import regularizers\n",
        "regularizers.l1(0.001)\n",
        "regularizers.l1_l2(l1=0.001, l2=0.001)"
      ]
    },
    {
      "cell_type": "markdown",
      "metadata": {
        "id": "i9IfvWEI_3tO"
      },
      "source": [
        "#### Adding dropout"
      ]
    },
    {
      "cell_type": "markdown",
      "metadata": {
        "id": "LvQ3wpCy_3tO"
      },
      "source": [
        "**Adding dropout to the IMDB model**"
      ]
    },
    {
      "cell_type": "code",
      "execution_count": 15,
      "metadata": {
        "id": "9AFssjXJ_3tO",
        "outputId": "a66113c0-76ed-419e-ab30-73920a2aa2c5",
        "colab": {
          "base_uri": "https://localhost:8080/"
        }
      },
      "outputs": [
        {
          "output_type": "stream",
          "name": "stdout",
          "text": [
            "Epoch 1/20\n",
            "30/30 [==============================] - 3s 51ms/step - loss: 0.6326 - accuracy: 0.6351 - val_loss: 0.5078 - val_accuracy: 0.8528\n",
            "Epoch 2/20\n",
            "30/30 [==============================] - 1s 39ms/step - loss: 0.5060 - accuracy: 0.7749 - val_loss: 0.4043 - val_accuracy: 0.8777\n",
            "Epoch 3/20\n",
            "30/30 [==============================] - 1s 43ms/step - loss: 0.4197 - accuracy: 0.8291 - val_loss: 0.3408 - val_accuracy: 0.8774\n",
            "Epoch 4/20\n",
            "30/30 [==============================] - 1s 50ms/step - loss: 0.3531 - accuracy: 0.8655 - val_loss: 0.2928 - val_accuracy: 0.8920\n",
            "Epoch 5/20\n",
            "30/30 [==============================] - 2s 50ms/step - loss: 0.3078 - accuracy: 0.8866 - val_loss: 0.2768 - val_accuracy: 0.8932\n",
            "Epoch 6/20\n",
            "30/30 [==============================] - 2s 51ms/step - loss: 0.2686 - accuracy: 0.9054 - val_loss: 0.2720 - val_accuracy: 0.8930\n",
            "Epoch 7/20\n",
            "30/30 [==============================] - 1s 40ms/step - loss: 0.2423 - accuracy: 0.9185 - val_loss: 0.2745 - val_accuracy: 0.8941\n",
            "Epoch 8/20\n",
            "30/30 [==============================] - 1s 45ms/step - loss: 0.2061 - accuracy: 0.9300 - val_loss: 0.2872 - val_accuracy: 0.8919\n",
            "Epoch 9/20\n",
            "30/30 [==============================] - 2s 59ms/step - loss: 0.1860 - accuracy: 0.9412 - val_loss: 0.3046 - val_accuracy: 0.8902\n",
            "Epoch 10/20\n",
            "30/30 [==============================] - 1s 49ms/step - loss: 0.1587 - accuracy: 0.9477 - val_loss: 0.3231 - val_accuracy: 0.8911\n",
            "Epoch 11/20\n",
            "30/30 [==============================] - 1s 49ms/step - loss: 0.1504 - accuracy: 0.9533 - val_loss: 0.3419 - val_accuracy: 0.8913\n",
            "Epoch 12/20\n",
            "30/30 [==============================] - 1s 50ms/step - loss: 0.1325 - accuracy: 0.9597 - val_loss: 0.3683 - val_accuracy: 0.8904\n",
            "Epoch 13/20\n",
            "30/30 [==============================] - 1s 50ms/step - loss: 0.1188 - accuracy: 0.9640 - val_loss: 0.3995 - val_accuracy: 0.8871\n",
            "Epoch 14/20\n",
            "30/30 [==============================] - 1s 47ms/step - loss: 0.1119 - accuracy: 0.9650 - val_loss: 0.4114 - val_accuracy: 0.8881\n",
            "Epoch 15/20\n",
            "30/30 [==============================] - 1s 46ms/step - loss: 0.0991 - accuracy: 0.9683 - val_loss: 0.4488 - val_accuracy: 0.8820\n",
            "Epoch 16/20\n",
            "30/30 [==============================] - 1s 42ms/step - loss: 0.0919 - accuracy: 0.9720 - val_loss: 0.4721 - val_accuracy: 0.8888\n",
            "Epoch 17/20\n",
            "30/30 [==============================] - 1s 49ms/step - loss: 0.0868 - accuracy: 0.9726 - val_loss: 0.4968 - val_accuracy: 0.8867\n",
            "Epoch 18/20\n",
            "30/30 [==============================] - 1s 44ms/step - loss: 0.0822 - accuracy: 0.9736 - val_loss: 0.5042 - val_accuracy: 0.8854\n",
            "Epoch 19/20\n",
            "30/30 [==============================] - 1s 48ms/step - loss: 0.0776 - accuracy: 0.9753 - val_loss: 0.5354 - val_accuracy: 0.8858\n",
            "Epoch 20/20\n",
            "30/30 [==============================] - 1s 49ms/step - loss: 0.0780 - accuracy: 0.9759 - val_loss: 0.5669 - val_accuracy: 0.8853\n"
          ]
        }
      ],
      "source": [
        "model = keras.Sequential([\n",
        "    layers.Dense(16, activation=\"relu\"),\n",
        "    layers.Dropout(0.5),\n",
        "    layers.Dense(16, activation=\"relu\"),\n",
        "    layers.Dropout(0.5),\n",
        "    layers.Dense(1, activation=\"sigmoid\")\n",
        "])\n",
        "model.compile(optimizer=\"rmsprop\",\n",
        "              loss=\"binary_crossentropy\",\n",
        "              metrics=[\"accuracy\"])\n",
        "history_dropout = model.fit(\n",
        "    train_data, train_labels,\n",
        "    epochs=20, batch_size=512, validation_split=0.4)"
      ]
    },
    {
      "cell_type": "markdown",
      "metadata": {
        "id": "0uXrJFeJ_3tO"
      },
      "source": [
        "## Summary"
      ]
    }
  ],
  "metadata": {
    "colab": {
      "collapsed_sections": [],
      "name": "chapter05_fundamentals-of-ml.i",
      "provenance": []
    },
    "kernelspec": {
      "display_name": "Python 3",
      "language": "python",
      "name": "python3"
    },
    "language_info": {
      "codemirror_mode": {
        "name": "ipython",
        "version": 3
      },
      "file_extension": ".py",
      "mimetype": "text/x-python",
      "name": "python",
      "nbconvert_exporter": "python",
      "pygments_lexer": "ipython3",
      "version": "3.7.0"
    }
  },
  "nbformat": 4,
  "nbformat_minor": 0
}